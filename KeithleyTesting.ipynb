{
 "cells": [
  {
   "cell_type": "code",
   "execution_count": 40,
   "metadata": {},
   "outputs": [
    {
     "name": "stdout",
     "output_type": "stream",
     "text": [
      "imported successfully\n",
      "<lightlab.equipment.lab_instruments.Keithley_2606B_SMU.Remote_Keithley_2606B_SMU object at 0x7f7d0abd0730>\n"
     ]
    }
   ],
   "source": [
    "import rvisa as visa\n",
    "import time\n",
    "#had to change the import statement for visalogger to ...\n",
    "#from rvisa_lightlab.lightlab.equipment.lab_instruments.Tektronix_DPO4034_Oscope import Remote_Tektronix_DPO4034_Oscope as Re\n",
    "from lightlab.equipment.lab_instruments import Remote_Keithley_2606B_SMU as Ke\n",
    "print(\"imported successfully\")\n",
    "instr = Ke(address='GPIB0::4::INSTR',url=\"https://1000000031c956ca-api.nwtech.win/\", tsp_node=1, channel=\"A\")\n",
    "instr.driver\n",
    "print(instr.driver)"
   ]
  },
  {
   "cell_type": "code",
   "execution_count": 12,
   "metadata": {},
   "outputs": [],
   "source": [
    "import lightlab.equipment.lab_instruments as testing"
   ]
  },
  {
   "cell_type": "code",
   "execution_count": 1,
   "metadata": {},
   "outputs": [],
   "source": [
    "from lightlab.equipment.lab_instruments import Remote_Keithley_2606B_SMU as Ke"
   ]
  },
  {
   "cell_type": "code",
   "execution_count": 34,
   "metadata": {},
   "outputs": [],
   "source": [
    "instr = Ke(address='GPIB0::29::INSTR',url=\"https://1000000031c956ca-api.nwtech.win/\", tsp_node=1, channel=\"A\")"
   ]
  },
  {
   "cell_type": "code",
   "execution_count": 3,
   "metadata": {},
   "outputs": [
    {
     "data": {
      "text/plain": [
       "['_Instrument__driver_object',\n",
       " '__class__',\n",
       " '__delattr__',\n",
       " '__dict__',\n",
       " '__dir__',\n",
       " '__doc__',\n",
       " '__eq__',\n",
       " '__format__',\n",
       " '__ge__',\n",
       " '__getattr__',\n",
       " '__getattribute__',\n",
       " '__getstate__',\n",
       " '__gt__',\n",
       " '__hash__',\n",
       " '__init__',\n",
       " '__init_subclass__',\n",
       " '__le__',\n",
       " '__lt__',\n",
       " '__module__',\n",
       " '__ne__',\n",
       " '__new__',\n",
       " '__reduce__',\n",
       " '__reduce_ex__',\n",
       " '__repr__',\n",
       " '__setattr__',\n",
       " '__setstate__',\n",
       " '__sizeof__',\n",
       " '__str__',\n",
       " '__subclasshook__',\n",
       " '__weakref__',\n",
       " '_bench',\n",
       " '_driver_class',\n",
       " '_host',\n",
       " '_id_string',\n",
       " '_name',\n",
       " '_toJSON',\n",
       " 'address',\n",
       " 'bench',\n",
       " 'connectHost',\n",
       " 'context',\n",
       " 'display',\n",
       " 'driver',\n",
       " 'driver_class',\n",
       " 'driver_kwargs',\n",
       " 'driver_object',\n",
       " 'enable',\n",
       " 'essentialMethods',\n",
       " 'essentialProperties',\n",
       " 'getCurrent',\n",
       " 'getVoltage',\n",
       " 'hardware_cooldown',\n",
       " 'hardware_warmup',\n",
       " 'host',\n",
       " 'id_string',\n",
       " 'implementedOptionals',\n",
       " 'isLive',\n",
       " 'measCurrent',\n",
       " 'measVoltage',\n",
       " 'name',\n",
       " 'optionalAttributes',\n",
       " 'placeBench',\n",
       " 'ports',\n",
       " 'protectionCurrent',\n",
       " 'protectionVoltage',\n",
       " 'setCurrent',\n",
       " 'setCurrentMode',\n",
       " 'setProtectionCurrent',\n",
       " 'setProtectionVoltage',\n",
       " 'setVoltage',\n",
       " 'setVoltageMode',\n",
       " 'startup',\n",
       " 'warmedUp']"
      ]
     },
     "execution_count": 3,
     "metadata": {},
     "output_type": "execute_result"
    }
   ],
   "source": [
    "dir(instr)"
   ]
  },
  {
   "cell_type": "code",
   "execution_count": 35,
   "metadata": {},
   "outputs": [
    {
     "name": "stdout",
     "output_type": "stream",
     "text": [
      "RESOURCE SUCCESSFULLY CLOSED\n",
      "RESOURCE SUCCESSFULLY CLOSED\n"
     ]
    }
   ],
   "source": [
    "instr.setCurrent(1)"
   ]
  },
  {
   "cell_type": "code",
   "execution_count": 36,
   "metadata": {},
   "outputs": [
    {
     "name": "stdout",
     "output_type": "stream",
     "text": [
      "RESOURCE SUCCESSFULLY CLOSED\n"
     ]
    },
    {
     "data": {
      "text/plain": [
       "1.0"
      ]
     },
     "execution_count": 36,
     "metadata": {},
     "output_type": "execute_result"
    }
   ],
   "source": [
    "instr.getCurrent()"
   ]
  },
  {
   "cell_type": "code",
   "execution_count": 37,
   "metadata": {},
   "outputs": [
    {
     "name": "stdout",
     "output_type": "stream",
     "text": [
      "RESOURCE SUCCESSFULLY CLOSED\n",
      "RESOURCE SUCCESSFULLY CLOSED\n",
      "RESOURCE SUCCESSFULLY CLOSED\n"
     ]
    },
    {
     "data": {
      "text/plain": [
       "5.0"
      ]
     },
     "execution_count": 37,
     "metadata": {},
     "output_type": "execute_result"
    }
   ],
   "source": [
    "instr.setVoltage(5)\n",
    "instr.getVoltage()"
   ]
  },
  {
   "cell_type": "code",
   "execution_count": 27,
   "metadata": {},
   "outputs": [
    {
     "name": "stdout",
     "output_type": "stream",
     "text": [
      "RESOURCE SUCCESSFULLY CLOSED\n"
     ]
    },
    {
     "data": {
      "text/plain": [
       "False"
      ]
     },
     "execution_count": 27,
     "metadata": {},
     "output_type": "execute_result"
    }
   ],
   "source": [
    "instr.enable()"
   ]
  },
  {
   "cell_type": "code",
   "execution_count": 3,
   "metadata": {},
   "outputs": [],
   "source": [
    "%load_ext autoreload\n",
    "%autoreload 2"
   ]
  },
  {
   "cell_type": "code",
   "execution_count": null,
   "metadata": {},
   "outputs": [],
   "source": []
  }
 ],
 "metadata": {
  "kernelspec": {
   "display_name": "Python 3",
   "language": "python",
   "name": "python3"
  },
  "language_info": {
   "codemirror_mode": {
    "name": "ipython",
    "version": 3
   },
   "file_extension": ".py",
   "mimetype": "text/x-python",
   "name": "python",
   "nbconvert_exporter": "python",
   "pygments_lexer": "ipython3",
   "version": "3.8.4"
  }
 },
 "nbformat": 4,
 "nbformat_minor": 4
}
