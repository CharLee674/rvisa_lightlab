{
 "cells": [
  {
   "cell_type": "code",
   "execution_count": 11,
   "metadata": {},
   "outputs": [
    {
     "name": "stdout",
     "output_type": "stream",
     "text": [
      "RESOURCE SUCCESSFULLY CLOSED\n",
      "RESOURCE SUCCESSFULLY CLOSED\n",
      "RESOURCE SUCCESSFULLY CLOSED\n",
      "1.0\n"
     ]
    },
    {
     "data": {
      "text/plain": [
       "'\\nprint(instr.getVoltage())\\nprint(instr.getCurrent())\\ninstr.setVoltage(1)\\nprint(instr.getVoltage())\\ninstr.setVoltage(5)\\n'"
      ]
     },
     "execution_count": 11,
     "metadata": {},
     "output_type": "execute_result"
    }
   ],
   "source": [
    "import rvisa as visa\n",
    "import time\n",
    "\n",
    "#had to change the import statement for visalogger to ...\n",
    "#from rvisa_lightlab.lightlab.equipment.lab_instruments.Tektronix_DPO4034_Oscope import Remote_Tektronix_DPO4034_Oscope as Re\n",
    "from lightlab.equipment.lab_instruments import Remote_Keithley_2606B_SMU as Ke\n",
    "#rm = visa.ResourceManager(\"https://1000000031c956ca-api.nwtech.win/\")\n",
    "#rm.list_resources()\n",
    "instr = Ke(address='GPIB0::29::INSTR',url=\"https://1000000031c956ca-api.nwtech.win/\", tsp_node=1, channel=\"A\")\n",
    "#print(instr.driver.instrID())\n",
    "instr.setCurrent(1)\n",
    "print(instr.getCurrent())\n",
    "\"\"\"\n",
    "print(instr.getVolta ge())\n",
    "print(instr.getCurrent())\n",
    "instr.setVoltage(1)\n",
    "print(instr.getVoltage())\n",
    "instr.setVoltage(5)\n",
    "\"\"\""
   ]
  },
  {
   "cell_type": "code",
   "execution_count": null,
   "metadata": {},
   "outputs": [],
   "source": []
  },
  {
   "cell_type": "code",
   "execution_count": 2,
   "metadata": {},
   "outputs": [
    {
     "name": "stdout",
     "output_type": "stream",
     "text": [
      "Printing progress in tempfile /home/jovyan/work/rvisa_lightlab/progress-monitor/swp_progf1r9_1gl\n",
      "Generic sweep in Voltage\n",
      "Dim-0...\n",
      "1/30...\n",
      "RESOURCE SUCCESSFULLY CLOSED\n",
      "RESOURCE SUCCESSFULLY CLOSED\n"
     ]
    },
    {
     "ename": "KeyboardInterrupt",
     "evalue": "",
     "output_type": "error",
     "traceback": [
      "\u001b[0;31m---------------------------------------------------------------------------\u001b[0m",
      "\u001b[0;31mKeyboardInterrupt\u001b[0m                         Traceback (most recent call last)",
      "\u001b[0;32m<ipython-input-2-a5bb4443e75c>\u001b[0m in \u001b[0;36m<module>\u001b[0;34m\u001b[0m\n\u001b[1;32m      8\u001b[0m \u001b[0mtsweep\u001b[0m\u001b[0;34m.\u001b[0m\u001b[0maddActuation\u001b[0m\u001b[0;34m(\u001b[0m\u001b[0;34m\"Voltage\"\u001b[0m\u001b[0;34m,\u001b[0m\u001b[0;32mlambda\u001b[0m \u001b[0mv\u001b[0m\u001b[0;34m:\u001b[0m \u001b[0minstr\u001b[0m\u001b[0;34m.\u001b[0m\u001b[0msetVoltage\u001b[0m\u001b[0;34m(\u001b[0m\u001b[0mv\u001b[0m\u001b[0;34m)\u001b[0m\u001b[0;34m,\u001b[0m\u001b[0mdomain\u001b[0m\u001b[0;34m)\u001b[0m\u001b[0;34m\u001b[0m\u001b[0;34m\u001b[0m\u001b[0m\n\u001b[1;32m      9\u001b[0m \u001b[0mtsweep\u001b[0m\u001b[0;34m.\u001b[0m\u001b[0maddMeasurement\u001b[0m\u001b[0;34m(\u001b[0m\u001b[0;34m\"Current\"\u001b[0m\u001b[0;34m,\u001b[0m\u001b[0;32mlambda\u001b[0m\u001b[0;34m:\u001b[0m \u001b[0minstr\u001b[0m\u001b[0;34m.\u001b[0m\u001b[0mgetCurrent\u001b[0m\u001b[0;34m(\u001b[0m\u001b[0;34m)\u001b[0m\u001b[0;34m)\u001b[0m\u001b[0;34m\u001b[0m\u001b[0;34m\u001b[0m\u001b[0m\n\u001b[0;32m---> 10\u001b[0;31m \u001b[0mtsweep\u001b[0m\u001b[0;34m.\u001b[0m\u001b[0mgather\u001b[0m\u001b[0;34m(\u001b[0m\u001b[0;36m3\u001b[0m\u001b[0;34m)\u001b[0m\u001b[0;34m\u001b[0m\u001b[0;34m\u001b[0m\u001b[0m\n\u001b[0m\u001b[1;32m     11\u001b[0m \u001b[0minstr\u001b[0m\u001b[0;34m.\u001b[0m\u001b[0msetVoltage\u001b[0m\u001b[0;34m(\u001b[0m\u001b[0;36m0\u001b[0m\u001b[0;34m)\u001b[0m\u001b[0;34m\u001b[0m\u001b[0;34m\u001b[0m\u001b[0m\n\u001b[1;32m     12\u001b[0m \u001b[0mtsweep\u001b[0m\u001b[0;34m.\u001b[0m\u001b[0mplot\u001b[0m\u001b[0;34m(\u001b[0m\u001b[0;34m)\u001b[0m\u001b[0;34m\u001b[0m\u001b[0;34m\u001b[0m\u001b[0m\n",
      "\u001b[0;32m~/work/rvisa_lightlab/lightlab/util/sweep.py\u001b[0m in \u001b[0;36mgather\u001b[0;34m(self, soakTime, autoSave, returnToStart)\u001b[0m\n\u001b[1;32m    217\u001b[0m                 \u001b[0;32mfor\u001b[0m \u001b[0mactuObj\u001b[0m \u001b[0;32min\u001b[0m \u001b[0mself\u001b[0m\u001b[0;34m.\u001b[0m\u001b[0mactuate\u001b[0m\u001b[0;34m.\u001b[0m\u001b[0mvalues\u001b[0m\u001b[0;34m(\u001b[0m\u001b[0;34m)\u001b[0m\u001b[0;34m:\u001b[0m\u001b[0;34m\u001b[0m\u001b[0;34m\u001b[0m\u001b[0m\n\u001b[1;32m    218\u001b[0m                     \u001b[0mactuObj\u001b[0m\u001b[0;34m.\u001b[0m\u001b[0mfunction\u001b[0m\u001b[0;34m(\u001b[0m\u001b[0mactuObj\u001b[0m\u001b[0;34m.\u001b[0m\u001b[0mdomain\u001b[0m\u001b[0;34m[\u001b[0m\u001b[0;36m0\u001b[0m\u001b[0;34m]\u001b[0m\u001b[0;34m)\u001b[0m\u001b[0;34m\u001b[0m\u001b[0;34m\u001b[0m\u001b[0m\n\u001b[0;32m--> 219\u001b[0;31m                 \u001b[0mtime\u001b[0m\u001b[0;34m.\u001b[0m\u001b[0msleep\u001b[0m\u001b[0;34m(\u001b[0m\u001b[0msoakTime\u001b[0m\u001b[0;34m)\u001b[0m\u001b[0;34m\u001b[0m\u001b[0;34m\u001b[0m\u001b[0m\n\u001b[0m\u001b[1;32m    220\u001b[0m \u001b[0;34m\u001b[0m\u001b[0m\n\u001b[1;32m    221\u001b[0m             \u001b[0;32mfor\u001b[0m \u001b[0mindex\u001b[0m \u001b[0;32min\u001b[0m \u001b[0mnp\u001b[0m\u001b[0;34m.\u001b[0m\u001b[0mndindex\u001b[0m\u001b[0;34m(\u001b[0m\u001b[0mself\u001b[0m\u001b[0;34m.\u001b[0m\u001b[0mswpShape\u001b[0m\u001b[0;34m)\u001b[0m\u001b[0;34m:\u001b[0m\u001b[0;34m\u001b[0m\u001b[0;34m\u001b[0m\u001b[0m\n",
      "\u001b[0;31mKeyboardInterrupt\u001b[0m: "
     ]
    }
   ],
   "source": [
    "#testing sweeps\n",
    "from lightlab.util.sweep import NdSweeper\n",
    "import numpy\n",
    "from lightlab.equipment.lab_instruments import Remote_Keithley_2606B_SMU as Ke\n",
    "instr = Ke(address='GPIB0::29::INSTR',url=\"https://1000000031c956ca-api.nwtech.win/\", tsp_node=1, channel=\"A\")\n",
    "tsweep=NdSweeper()\n",
    "domain=numpy.arange(0,3,.1)\n",
    "tsweep.addActuation(\"Voltage\",lambda v: instr.setVoltage(v),domain)\n",
    "tsweep.addMeasurement(\"Current\",lambda: instr.getCurrent())\n",
    "tsweep.gather(3)\n",
    "instr.setVoltage(0)\n",
    "tsweep.plot()"
   ]
  },
  {
   "cell_type": "code",
   "execution_count": 6,
   "metadata": {},
   "outputs": [
    {
     "data": {
      "text/plain": [
       "array([0. , 0.1, 0.2, 0.3, 0.4, 0.5, 0.6, 0.7, 0.8, 0.9, 1. , 1.1, 1.2,\n",
       "       1.3, 1.4, 1.5, 1.6, 1.7, 1.8, 1.9, 2. , 2.1, 2.2, 2.3, 2.4, 2.5,\n",
       "       2.6, 2.7, 2.8, 2.9])"
      ]
     },
     "execution_count": 6,
     "metadata": {},
     "output_type": "execute_result"
    }
   ],
   "source": []
  },
  {
   "cell_type": "code",
   "execution_count": null,
   "metadata": {},
   "outputs": [],
   "source": [
    "#test Voltage\n",
    "print(instr.getVoltage())\n",
    "instr.setVoltage(1)\n",
    "print(instr.getVoltage())\n",
    "instr.setVoltage(5)\n",
    "print(instr.getVoltage())"
   ]
  },
  {
   "cell_type": "code",
   "execution_count": 14,
   "metadata": {},
   "outputs": [
    {
     "name": "stdout",
     "output_type": "stream",
     "text": [
      "RESOURCE SUCCESSFULLY CLOSED\n",
      "1.0\n",
      "RESOURCE SUCCESSFULLY CLOSED\n",
      "RESOURCE SUCCESSFULLY CLOSED\n",
      "RESOURCE SUCCESSFULLY CLOSED\n",
      "1e-09\n",
      "RESOURCE SUCCESSFULLY CLOSED\n",
      "RESOURCE SUCCESSFULLY CLOSED\n",
      "RESOURCE SUCCESSFULLY CLOSED\n",
      "1.0\n"
     ]
    }
   ],
   "source": [
    "#test Current\n",
    "print(instr.getCurrent())\n",
    "instr.setCurrent(0)\n",
    "print(instr.getCurrent())\n",
    "instr.setCurrent(1)\n",
    "print(instr.getCurrent())"
   ]
  },
  {
   "cell_type": "code",
   "execution_count": 65,
   "metadata": {},
   "outputs": [
    {
     "name": "stdout",
     "output_type": "stream",
     "text": [
      "RESOURCE SUCCESSFULLY CLOSED\n",
      "5.0\n",
      "RESOURCE SUCCESSFULLY CLOSED\n",
      "2.0\n",
      "RESOURCE SUCCESSFULLY CLOSED\n",
      "RESOURCE SUCCESSFULLY CLOSED\n",
      "RESOURCE SUCCESSFULLY CLOSED\n",
      "RESOURCE SUCCESSFULLY CLOSED\n",
      "2.0\n",
      "RESOURCE SUCCESSFULLY CLOSED\n",
      "1.0\n",
      "RESOURCE SUCCESSFULLY CLOSED\n",
      "RESOURCE SUCCESSFULLY CLOSED\n",
      "RESOURCE SUCCESSFULLY CLOSED\n",
      "RESOURCE SUCCESSFULLY CLOSED\n",
      "5.0\n"
     ]
    }
   ],
   "source": [
    "#test protection voltage (I don't know what protection voltage normally is, i messed it up and now it's 4)\n",
    "print(instr.getVoltage())\n",
    "print(instr.protectionVoltage)\n",
    "instr.setVoltage(1)\n",
    "instr.setProtectionVoltage(2)\n",
    "print(instr.protectionVoltage)\n",
    "print(instr.getVoltage())\n",
    "instr.setVoltage(5)\n",
    "instr.setProtectionVoltage(5)\n",
    "print(instr.getVoltage())"
   ]
  },
  {
   "cell_type": "code",
   "execution_count": 13,
   "metadata": {},
   "outputs": [
    {
     "name": "stdout",
     "output_type": "stream",
     "text": [
      "RESOURCE SUCCESSFULLY CLOSED\n",
      "RESOURCE SUCCESSFULLY CLOSED\n"
     ]
    },
    {
     "data": {
      "text/plain": [
       "'\\nprint(instr.getCurrent())\\n\\nprint(instr.protectionCurrent)\\ninstr.setCurrent(2)\\nprint(instr.getCurrent())\\ninstr.setCurrent(1)\\nprint(instr.getCurrent())\\n'"
      ]
     },
     "execution_count": 13,
     "metadata": {},
     "output_type": "execute_result"
    }
   ],
   "source": [
    "#test protection current\n",
    "instr.setProtectionCurrent(1)\n",
    "instr.setProtectionVoltage(3)\n",
    "\"\"\"\n",
    "print(instr.getCurrent())\n",
    "\n",
    "print(instr.protectionCurrent)\n",
    "instr.setCurrent(2)\n",
    "print(instr.getCurrent())\n",
    "instr.setCurrent(1)\n",
    "print(instr.getCurrent())\n",
    "\"\"\""
   ]
  },
  {
   "cell_type": "code",
   "execution_count": null,
   "metadata": {},
   "outputs": [],
   "source": [
    "#test state"
   ]
  },
  {
   "cell_type": "code",
   "execution_count": 12,
   "metadata": {},
   "outputs": [],
   "source": [
    "import lightlab.equipment.lab_instruments as testing"
   ]
  },
  {
   "cell_type": "code",
   "execution_count": 1,
   "metadata": {},
   "outputs": [],
   "source": [
    "from lightlab.equipment.lab_instruments import Remote_Keithley_2606B_SMU as Ke"
   ]
  },
  {
   "cell_type": "code",
   "execution_count": 34,
   "metadata": {},
   "outputs": [],
   "source": [
    "instr = Ke(address='GPIB0::29::INSTR',url=\"https://1000000031c956ca-api.nwtech.win/\", tsp_node=1, channel=\"A\")"
   ]
  },
  {
   "cell_type": "code",
   "execution_count": 3,
   "metadata": {},
   "outputs": [
    {
     "data": {
      "text/plain": [
       "['_Instrument__driver_object',\n",
       " '__class__',\n",
       " '__delattr__',\n",
       " '__dict__',\n",
       " '__dir__',\n",
       " '__doc__',\n",
       " '__eq__',\n",
       " '__format__',\n",
       " '__ge__',\n",
       " '__getattr__',\n",
       " '__getattribute__',\n",
       " '__getstate__',\n",
       " '__gt__',\n",
       " '__hash__',\n",
       " '__init__',\n",
       " '__init_subclass__',\n",
       " '__le__',\n",
       " '__lt__',\n",
       " '__module__',\n",
       " '__ne__',\n",
       " '__new__',\n",
       " '__reduce__',\n",
       " '__reduce_ex__',\n",
       " '__repr__',\n",
       " '__setattr__',\n",
       " '__setstate__',\n",
       " '__sizeof__',\n",
       " '__str__',\n",
       " '__subclasshook__',\n",
       " '__weakref__',\n",
       " '_bench',\n",
       " '_driver_class',\n",
       " '_host',\n",
       " '_id_string',\n",
       " '_name',\n",
       " '_toJSON',\n",
       " 'address',\n",
       " 'bench',\n",
       " 'connectHost',\n",
       " 'context',\n",
       " 'display',\n",
       " 'driver',\n",
       " 'driver_class',\n",
       " 'driver_kwargs',\n",
       " 'driver_object',\n",
       " 'enable',\n",
       " 'essentialMethods',\n",
       " 'essentialProperties',\n",
       " 'getCurrent',\n",
       " 'getVoltage',\n",
       " 'hardware_cooldown',\n",
       " 'hardware_warmup',\n",
       " 'host',\n",
       " 'id_string',\n",
       " 'implementedOptionals',\n",
       " 'isLive',\n",
       " 'measCurrent',\n",
       " 'measVoltage',\n",
       " 'name',\n",
       " 'optionalAttributes',\n",
       " 'placeBench',\n",
       " 'ports',\n",
       " 'protectionCurrent',\n",
       " 'protectionVoltage',\n",
       " 'setCurrent',\n",
       " 'setCurrentMode',\n",
       " 'setProtectionCurrent',\n",
       " 'setProtectionVoltage',\n",
       " 'setVoltage',\n",
       " 'setVoltageMode',\n",
       " 'startup',\n",
       " 'warmedUp']"
      ]
     },
     "execution_count": 3,
     "metadata": {},
     "output_type": "execute_result"
    }
   ],
   "source": [
    "dir(instr)"
   ]
  },
  {
   "cell_type": "code",
   "execution_count": 35,
   "metadata": {},
   "outputs": [
    {
     "name": "stdout",
     "output_type": "stream",
     "text": [
      "RESOURCE SUCCESSFULLY CLOSED\n",
      "RESOURCE SUCCESSFULLY CLOSED\n"
     ]
    }
   ],
   "source": [
    "instr.setCurrent(1)"
   ]
  },
  {
   "cell_type": "code",
   "execution_count": 36,
   "metadata": {},
   "outputs": [
    {
     "name": "stdout",
     "output_type": "stream",
     "text": [
      "RESOURCE SUCCESSFULLY CLOSED\n"
     ]
    },
    {
     "data": {
      "text/plain": [
       "1.0"
      ]
     },
     "execution_count": 36,
     "metadata": {},
     "output_type": "execute_result"
    }
   ],
   "source": [
    "instr.getCurrent()"
   ]
  },
  {
   "cell_type": "code",
   "execution_count": 37,
   "metadata": {},
   "outputs": [
    {
     "name": "stdout",
     "output_type": "stream",
     "text": [
      "RESOURCE SUCCESSFULLY CLOSED\n",
      "RESOURCE SUCCESSFULLY CLOSED\n",
      "RESOURCE SUCCESSFULLY CLOSED\n"
     ]
    },
    {
     "data": {
      "text/plain": [
       "5.0"
      ]
     },
     "execution_count": 37,
     "metadata": {},
     "output_type": "execute_result"
    }
   ],
   "source": [
    "instr.setVoltage(5)\n",
    "instr.getVoltage()"
   ]
  },
  {
   "cell_type": "code",
   "execution_count": 27,
   "metadata": {},
   "outputs": [
    {
     "name": "stdout",
     "output_type": "stream",
     "text": [
      "RESOURCE SUCCESSFULLY CLOSED\n"
     ]
    },
    {
     "data": {
      "text/plain": [
       "False"
      ]
     },
     "execution_count": 27,
     "metadata": {},
     "output_type": "execute_result"
    }
   ],
   "source": [
    "instr.enable()"
   ]
  },
  {
   "cell_type": "code",
   "execution_count": 3,
   "metadata": {},
   "outputs": [],
   "source": [
    "%load_ext autoreload\n",
    "%autoreload 2"
   ]
  },
  {
   "cell_type": "code",
   "execution_count": null,
   "metadata": {},
   "outputs": [],
   "source": []
  }
 ],
 "metadata": {
  "kernelspec": {
   "display_name": "Python 3",
   "language": "python",
   "name": "python3"
  },
  "language_info": {
   "codemirror_mode": {
    "name": "ipython",
    "version": 3
   },
   "file_extension": ".py",
   "mimetype": "text/x-python",
   "name": "python",
   "nbconvert_exporter": "python",
   "pygments_lexer": "ipython3",
   "version": "3.8.6"
  }
 },
 "nbformat": 4,
 "nbformat_minor": 4
}
