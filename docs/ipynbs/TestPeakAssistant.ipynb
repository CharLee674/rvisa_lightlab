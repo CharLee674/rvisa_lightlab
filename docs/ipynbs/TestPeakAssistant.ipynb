{
 "cells": [
  {
   "cell_type": "markdown",
   "metadata": {},
   "source": [
    "# Peak Finding\n",
    "This notebook generates some mangled peak-like spectra. The goal is to test whether the peaks can be resolved properly and robustly. Secondly, we want to test that convolutional peakfinding works accurately"
   ]
  },
  {
   "cell_type": "code",
   "execution_count": null,
   "metadata": {},
   "outputs": [],
   "source": [
    "%matplotlib inline\n",
    "\n",
    "import matplotlib.pyplot as plt\n",
    "import numpy as np\n",
    "\n",
    "import lightlab.equipment.measprocessing as mp\n",
    "import lightlab.util.data as dUtil"
   ]
  },
  {
   "cell_type": "code",
   "execution_count": null,
   "metadata": {},
   "outputs": [],
   "source": [
    "# Make a simple spectrum with peaks\n",
    "def lorentzian(x, a, c, g):\n",
    "    return a / (1 + ((x - c) / g*2) ** 2)\n",
    "\n",
    "def noise():\n",
    "    tNM = np.linspace(1500, 1600, 1000)\n",
    "    noiz = np.random.randn(len(tNM))\n",
    "    return dUtil.Spectrum(tNM, noiz, inDbm=False).db()\n",
    "\n",
    "def makeTest(lams):\n",
    "    pk = [(lams[0], .9, 2)]\n",
    "    pk = pk + [(lams[0] + 2, .85, 1), (lams[0] + 3, .85, .5)]\n",
    "    if len(lams) > 1:\n",
    "        pk = pk + [(lams[1], .1e-1, 1)]\n",
    "    tNM = np.linspace(1500, 1600, 1000)\n",
    "    tLIN = np.zeros(tNM.shape)\n",
    "\n",
    "    for p in pk:\n",
    "        tLIN = tLIN + lorentzian(tNM, p[1], p[0], p[2])\n",
    "    sig = dUtil.Spectrum(tNM, tLIN, inDbm=False)\n",
    "    return sig.db()\n",
    "\n",
    "lams = [1530, 1555]\n",
    "s = makeTest(lams)\n",
    "npk = len(lams)"
   ]
  },
  {
   "cell_type": "markdown",
   "metadata": {},
   "source": [
    "## Using measured function methods\n",
    "The measured function is ``s``"
   ]
  },
  {
   "cell_type": "code",
   "execution_count": null,
   "metadata": {},
   "outputs": [],
   "source": [
    "resfea = s.findResonanceFeatures(expectedCnt=2, isPeak=True)\n",
    "s.simplePlot()\n",
    "[r.simplePlot() for r in resfea] # ResonanceFeatures have their own plotting method"
   ]
  },
  {
   "cell_type": "markdown",
   "metadata": {},
   "source": [
    "## Using Spectrum Measurement Assistant\n",
    "This is better when you are taking many spectra of something that doesn't change very much"
   ]
  },
  {
   "cell_type": "code",
   "execution_count": null,
   "metadata": {},
   "outputs": [],
   "source": [
    "# Setup measurement assistant\n",
    "spcAss = mp.SpectrumMeasurementAssistant(nChan=npk, arePeaks=True, phony=True)\n",
    "spcAss.fgResPlot(s)\n",
    "\n",
    "# res = spcAss.resonances(s)\n",
    "# print('Found lambdas =', [r.lam for r in res])\n",
    "# print('Error =', [res[i].lam - lams[i] for i in range(len(res))])\n",
    "# offsets = np.array([res[i].lam - lams[i] for i in range(len(res))])"
   ]
  },
  {
   "cell_type": "code",
   "execution_count": null,
   "metadata": {},
   "outputs": [],
   "source": [
    "# take filter shapes and store in assistant\n",
    "filtShapes = np.empty(npk, dtype=object)\n",
    "for i, r in enumerate(spcAss.resonances(s)):\n",
    "    relWindow = 5 * r.fwhm * np.array([-1,1])/2 # pick out 5 FWHMs\n",
    "    proximitySpect = s.shift(-r.lam).crop(relWindow) # crop out the peak\n",
    "    filtShapes[i] = proximitySpect\n",
    "# Store in assistant\n",
    "spcAss.filtShapesForConvolution = filtShapes\n",
    "\n",
    "for f in filtShapes:\n",
    "    f.simplePlot()"
   ]
  },
  {
   "cell_type": "code",
   "execution_count": null,
   "metadata": {},
   "outputs": [],
   "source": [
    "# Test the repeatability\n",
    "pkLams = [1530, 1550]\n",
    "\n",
    "nReps = 10\n",
    "allLams = np.zeros((len(lams), nReps))\n",
    "for i in range(nReps):\n",
    "    spc = makeTest(pkLams).lin() + 1e-4 * noise().lin()\n",
    "#     spc.simplePlot()\n",
    "    thisLam = np.array([r.lam for r in spcAss.resonances(spc)])\n",
    "    allLams[:,i] = thisLam\n",
    "noisiness = np.std(allLams, axis=1)\n",
    "print('stddev of wavelength =', noisiness)"
   ]
  },
  {
   "cell_type": "markdown",
   "metadata": {},
   "source": [
    "# Function inversion\n",
    "Orange square is the point used, specified by its Y value. The code determines its X value.\n",
    "\n",
    "The function has a coarse sampling to show that linear interpolation is used to invert."
   ]
  },
  {
   "cell_type": "code",
   "execution_count": null,
   "metadata": {},
   "outputs": [],
   "source": [
    "x = np.linspace(-4,4,20)\n",
    "y = lorentzian(x, 1, 0.1, 2)\n",
    "f = dUtil.MeasuredFunction(x, y)\n",
    "f.simplePlot('-o')\n",
    "\n",
    "y_command = .35\n",
    "x_control = f.invert(y_command, directionToDescend='left')\n",
    "plt.plot(x_control, y_command, 's')"
   ]
  },
  {
   "cell_type": "code",
   "execution_count": null,
   "metadata": {},
   "outputs": [],
   "source": []
  }
 ],
 "metadata": {
  "kernelspec": {
   "display_name": "Python 3",
   "language": "python",
   "name": "python3"
  },
  "language_info": {
   "codemirror_mode": {
    "name": "ipython",
    "version": 3
   },
   "file_extension": ".py",
   "mimetype": "text/x-python",
   "name": "python",
   "nbconvert_exporter": "python",
   "pygments_lexer": "ipython3"
  }
 },
 "nbformat": 4,
 "nbformat_minor": 2
}
