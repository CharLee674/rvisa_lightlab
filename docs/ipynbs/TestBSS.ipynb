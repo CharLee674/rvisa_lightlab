{
 "cells": [
  {
   "cell_type": "markdown",
   "metadata": {},
   "source": [
    "# Tests the evaluate functions of the bss package\n",
    "If you're making changes to it, run this to make sure it doesn't break"
   ]
  },
  {
   "cell_type": "code",
   "execution_count": null,
   "metadata": {},
   "outputs": [],
   "source": [
    "# Reload modules every time code is called. Set autoreload 0 to disable\n",
    "%load_ext autoreload\n",
    "%autoreload 2\n",
    "%matplotlib inline\n",
    "\n",
    "import numpy as np\n",
    "from IPython import display\n",
    "import matplotlib.pyplot as plt\n",
    "\n",
    "import lightlab.util.data as dUtil\n",
    "from lightlab.util.data import FunctionalBasis, Waveform, FunctionBundle\n",
    "import lightlab.applevel.bss as bss"
   ]
  },
  {
   "cell_type": "code",
   "execution_count": null,
   "metadata": {},
   "outputs": [],
   "source": [
    "# Some common signal properties of use\n",
    "# Super-gaussian: uni, sine3, sine20\n",
    "# Sub-gaussian: am3, am20\n",
    "sigs = {}\n",
    "# White signals\n",
    "sigs['gauss'] = {'bandLimit': np.inf, 'stats': 'gaussian'}\n",
    "sigs['uni'] = {'bandLimit': np.inf, 'stats': 'uniform'}\n",
    "# Sinusoids\n",
    "sigs['sine3'] = {'stats': 'one', 'centFreq': 3}\n",
    "sigs['sine20'] = {'stats': 'one', 'centFreq': 20}\n",
    "# Modulated sinusoids\n",
    "modulation = {'bandLimit': 20, 'modType': 'AM', 'stats': 'uniform'}\n",
    "sigs['am3'] = sigs['sine3'].copy()\n",
    "sigs['am3'].update(modulation)\n",
    "sigs['am20'] = sigs['sine20'].copy()\n",
    "sigs['am20'].update(modulation)\n",
    "sigs['am3noi'] = sigs['am3'].copy()\n",
    "sigs['am3noi']['noise'] = 1e-2\n",
    "\n",
    "sigParams = [sigs['uni'], sigs['sine3']]"
   ]
  },
  {
   "cell_type": "code",
   "execution_count": null,
   "metadata": {},
   "outputs": [],
   "source": [
    "bss.debug_mode = False\n",
    "mixMat = 2 * np.random.rand(2,2) - 1\n",
    "\n",
    "prob = bss.setupToEval(sigParams=sigParams, noiseAmp=0, mixMat=mixMat)\n",
    "bss.evaluatePCAICA(visualize=True, probSpec=prob)"
   ]
  },
  {
   "cell_type": "code",
   "execution_count": null,
   "metadata": {},
   "outputs": [],
   "source": [
    "bss.evaluateBSS(visualize=True, probSpec=prob)"
   ]
  },
  {
   "cell_type": "code",
   "execution_count": null,
   "metadata": {},
   "outputs": [],
   "source": []
  }
 ],
 "metadata": {
  "kernelspec": {
   "display_name": "Python 3",
   "language": "python",
   "name": "python3"
  },
  "language_info": {
   "codemirror_mode": {
    "name": "ipython",
    "version": 3
   },
   "file_extension": ".py",
   "mimetype": "text/x-python",
   "name": "python",
   "nbconvert_exporter": "python",
   "pygments_lexer": "ipython3"
  }
 },
 "nbformat": 4,
 "nbformat_minor": 2
}
