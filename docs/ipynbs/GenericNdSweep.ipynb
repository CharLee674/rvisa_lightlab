{
 "cells": [
  {
   "cell_type": "markdown",
   "metadata": {},
   "source": [
    "# Generic N-D sweeps"
   ]
  },
  {
   "cell_type": "code",
   "execution_count": null,
   "metadata": {},
   "outputs": [],
   "source": [
    "import matplotlib.pyplot as plt\n",
    "import numpy as np\n",
    "import lightlab.util.sweep as sUtil"
   ]
  },
  {
   "cell_type": "code",
   "execution_count": null,
   "metadata": {},
   "outputs": [],
   "source": [
    "# Turn this on when executing interactively\n",
    "livePlots = False"
   ]
  },
  {
   "cell_type": "code",
   "execution_count": null,
   "metadata": {},
   "outputs": [],
   "source": [
    "class Plant():\n",
    "    def __init__(self):\n",
    "        self.x = 2\n",
    "        self.y = 2\n",
    "        \n",
    "    def actuateX(self, newX, rounded=False):\n",
    "        self.x = round(newX) if rounded else newX\n",
    "        \n",
    "    def actuateY(self, newY):\n",
    "        self.y = newY\n",
    "        \n",
    "    def measure(self):\n",
    "        return (np.sin(self.x * self.y/3), self.y / self.x)"
   ]
  },
  {
   "cell_type": "markdown",
   "metadata": {},
   "source": [
    "## Simplest case"
   ]
  },
  {
   "cell_type": "code",
   "execution_count": null,
   "metadata": {},
   "outputs": [],
   "source": [
    "p = Plant()\n",
    "\n",
    "swpInX = sUtil.NdSweeper()\n",
    "swpInX.addActuation('xAct', lambda x: p.actuateX(x, rounded=False), np.linspace(15, 25, 20))\n",
    "swpInX.addMeasurement('mOne', lambda: p.measure()[0])\n",
    "swpInX.setMonitorOptions(stdoutPrint=not livePlots, livePlot=livePlots)\n",
    "\n",
    "swpInX.gather()\n",
    "if not livePlots:\n",
    "    swpInX.plot()"
   ]
  },
  {
   "cell_type": "markdown",
   "metadata": {},
   "source": [
    "## Multiple measurements and a domain parser"
   ]
  },
  {
   "cell_type": "code",
   "execution_count": null,
   "metadata": {},
   "outputs": [],
   "source": [
    "swpInX.addMeasurement('mTwo', lambda: p.measure()[1])\n",
    "swpInX.addParser('xAct^4', lambda d: d['xAct']**4) # Non actuated x-axis\n",
    "swpInX.setPlotOptions(xKey=('xAct', 'xAct^4'))\n",
    "swpInX.setMonitorOptions(stdoutPrint=not livePlots, livePlot=livePlots)\n",
    "swpInX.gather()\n",
    "if not livePlots:\n",
    "    swpInX.plot()"
   ]
  },
  {
   "cell_type": "markdown",
   "metadata": {},
   "source": [
    "### Adding new parsers after the data has been gathered"
   ]
  },
  {
   "cell_type": "code",
   "execution_count": null,
   "metadata": {},
   "outputs": [],
   "source": [
    "swpInX.addParser('ratio', lambda d: d['mOne'] / d['mTwo'])\n",
    "swpInX.addParser('square', lambda d: d['mOne'] * d['mOne'])\n",
    "swpInX.setPlotOptions(xKey=('ratio',), yKey='square')\n",
    "swpInX.plot()"
   ]
  },
  {
   "cell_type": "markdown",
   "metadata": {},
   "source": [
    "## Subsuming to 2D and progress server"
   ]
  },
  {
   "cell_type": "code",
   "execution_count": null,
   "metadata": {},
   "outputs": [],
   "source": [
    "swpInY = sUtil.NdSweeper()\n",
    "swpInY.addActuation('yAct', p.actuateY, np.linspace(1, 2, 15))\n",
    "\n",
    "fullSwp = swpInX.subsume(swpInY)\n",
    "\n",
    "fullSwp.addParser('norm', lambda x: (x['mOne'] + x['xAct'])**2)\n",
    "fullSwp.setMonitorOptions(runServer=True, livePlot=livePlots, plotEvery=10, stdoutPrint=True)\n",
    "fullSwp.setPlotOptions(xKey=('yAct'), yKey=('norm', 'ratio'))\n",
    "fullSwp.gather()"
   ]
  },
  {
   "cell_type": "code",
   "execution_count": null,
   "metadata": {},
   "outputs": [],
   "source": [
    "fullSwp.setPlotOptions(plType='curves')\n",
    "_=fullSwp.plot()"
   ]
  },
  {
   "cell_type": "code",
   "execution_count": null,
   "metadata": {},
   "outputs": [],
   "source": [
    "fullSwp.setPlotOptions(plType='surf')\n",
    "_=fullSwp.plot()"
   ]
  },
  {
   "cell_type": "markdown",
   "metadata": {},
   "source": [
    "## Using static data to compare subsequent sweeps"
   ]
  },
  {
   "cell_type": "code",
   "execution_count": null,
   "metadata": {},
   "outputs": [],
   "source": [
    "p = Plant()\n",
    "\n",
    "# First do a 1d sweep\n",
    "swpA = sUtil.NdSweeper()\n",
    "swpA.addActuation('xAct', lambda x: p.actuateX(x, rounded=False), np.linspace(15, 25, 100))\n",
    "swpA.addMeasurement('mOne', lambda: p.measure()[0])\n",
    "swpA.setMonitorOptions(stdoutPrint=False)\n",
    "swpA.gather()\n",
    "swpA.plot()\n",
    "plt.title('Baseline sweep')\n",
    "\n",
    "# Get its data\n",
    "baseline = swpA.data['mOne']\n",
    "\n",
    "# do a 2d sweep where each line is compared to the 1d line\n",
    "swpB = swpA.copy()\n",
    "swpB.reinitActuation()\n",
    "# The order of these calls matters\n",
    "swpB.addActuation('xAct', lambda x: p.actuateX(x, rounded=True), np.linspace(15, 25, 100))\n",
    "swpB.addStaticData('baseline', baseline) \n",
    "swpB.addActuation('yAct', lambda y: p.actuateY(y), np.linspace(1, 3, 3))\n",
    "swpB.addParser('difference', lambda d: d['mOne'] - d['baseline'])\n",
    "swpB.setPlotOptions(xKey='xAct', yKey='difference')\n",
    "swpB.gather()\n",
    "swpB.plot()\n",
    "plt.title('Final comparison sweep')"
   ]
  }
 ],
 "metadata": {
  "kernelspec": {
   "display_name": "Python 3",
   "language": "python",
   "name": "python3"
  },
  "language_info": {
   "codemirror_mode": {
    "name": "ipython",
    "version": 3
   },
   "file_extension": ".py",
   "mimetype": "text/x-python",
   "name": "python",
   "nbconvert_exporter": "python",
   "pygments_lexer": "ipython3"
  }
 },
 "nbformat": 4,
 "nbformat_minor": 2
}
