{
 "cells": [
  {
   "cell_type": "markdown",
   "metadata": {},
   "source": [
    "# Functional basis\n",
    "Functional bases are useful for studying weighted addition because the output signals are known to be some combination of the inputs. The basis of original inputs is finite. As long as the basis signals are linearly separable, the multiple weights imparted by the weight bank can be decomposed from just one measurement. Furthermore, this is all very low noise because a weight is determined by an average over an entire oscilloscope window. Things that are **not** part of the basis, such as noise power and distortion, can be pulled out as remainders and studied.\n",
    "\n",
    "In this notebook, we make some signals and noise and some mixtures of those signals. We make a full basis of all of them, and we make a basis that is just the signals"
   ]
  },
  {
   "cell_type": "code",
   "execution_count": 1,
   "metadata": {},
   "outputs": [
    {
     "ename": "NameError",
     "evalue": "name 'SigProcMixin' is not defined",
     "output_type": "error",
     "traceback": [
      "\u001b[0;31m---------------------------------------------------------------------------\u001b[0m",
      "\u001b[0;31mNameError\u001b[0m                                 Traceback (most recent call last)",
      "\u001b[0;32m<ipython-input-1-9947ca8652cb>\u001b[0m in \u001b[0;36m<module>\u001b[0;34m()\u001b[0m\n\u001b[1;32m      6\u001b[0m \u001b[0;32mimport\u001b[0m \u001b[0mmatplotlib\u001b[0m\u001b[0;34m.\u001b[0m\u001b[0mpyplot\u001b[0m \u001b[0;32mas\u001b[0m \u001b[0mplt\u001b[0m\u001b[0;34m\u001b[0m\u001b[0m\n\u001b[1;32m      7\u001b[0m \u001b[0;34m\u001b[0m\u001b[0m\n\u001b[0;32m----> 8\u001b[0;31m \u001b[0;32mimport\u001b[0m \u001b[0mlightlab\u001b[0m\u001b[0;34m.\u001b[0m\u001b[0mutil\u001b[0m\u001b[0;34m.\u001b[0m\u001b[0mdata\u001b[0m \u001b[0;32mas\u001b[0m \u001b[0mdUtil\u001b[0m\u001b[0;34m\u001b[0m\u001b[0m\n\u001b[0m\u001b[1;32m      9\u001b[0m \u001b[0;32mfrom\u001b[0m \u001b[0mlightlab\u001b[0m\u001b[0;34m.\u001b[0m\u001b[0mutil\u001b[0m\u001b[0;34m.\u001b[0m\u001b[0mdata\u001b[0m \u001b[0;32mimport\u001b[0m \u001b[0mFunctionalBasis\u001b[0m\u001b[0;34m,\u001b[0m \u001b[0mWaveform\u001b[0m\u001b[0;34m,\u001b[0m \u001b[0mFunctionBundle\u001b[0m\u001b[0;34m\u001b[0m\u001b[0m\n",
      "\u001b[0;32m~/Dropbox/Documents/gitProjects/experiment-code/lightlab/lightlab/util/data/__init__.py\u001b[0m in \u001b[0;36m<module>\u001b[0;34m()\u001b[0m\n\u001b[1;32m     15\u001b[0m \u001b[0;32mfrom\u001b[0m \u001b[0;34m.\u001b[0m\u001b[0mpeaks\u001b[0m \u001b[0;32mimport\u001b[0m \u001b[0mResonanceFeature\u001b[0m\u001b[0;34m,\u001b[0m \u001b[0mPeakFinderError\u001b[0m\u001b[0;34m,\u001b[0m \u001b[0mfindPeaks\u001b[0m  \u001b[0;31m# noqa\u001b[0m\u001b[0;34m\u001b[0m\u001b[0m\n\u001b[1;32m     16\u001b[0m \u001b[0;34m\u001b[0m\u001b[0m\n\u001b[0;32m---> 17\u001b[0;31m \u001b[0;32mfrom\u001b[0m \u001b[0;34m.\u001b[0m\u001b[0mone_dim\u001b[0m \u001b[0;32mimport\u001b[0m \u001b[0mMeasuredFunction\u001b[0m\u001b[0;34m,\u001b[0m \u001b[0mSpectrum\u001b[0m\u001b[0;34m,\u001b[0m \u001b[0mWaveform\u001b[0m  \u001b[0;31m# noqa\u001b[0m\u001b[0;34m\u001b[0m\u001b[0m\n\u001b[0m\u001b[1;32m     18\u001b[0m \u001b[0;34m\u001b[0m\u001b[0m\n\u001b[1;32m     19\u001b[0m from .two_dim import (FunctionBundle, FunctionalBasis,  # noqa\n",
      "\u001b[0;32m~/Dropbox/Documents/gitProjects/experiment-code/lightlab/lightlab/util/data/one_dim.py\u001b[0m in \u001b[0;36m<module>\u001b[0;34m()\u001b[0m\n\u001b[1;32m    130\u001b[0m \u001b[0;34m\u001b[0m\u001b[0m\n\u001b[1;32m    131\u001b[0m \u001b[0;34m\u001b[0m\u001b[0m\n\u001b[0;32m--> 132\u001b[0;31m \u001b[0;32mclass\u001b[0m \u001b[0mMeasuredFunction\u001b[0m\u001b[0;34m(\u001b[0m\u001b[0mBinMathMixin\u001b[0m\u001b[0;34m,\u001b[0m \u001b[0mSigProcMixin\u001b[0m\u001b[0;34m)\u001b[0m\u001b[0;34m:\u001b[0m\u001b[0;34m\u001b[0m\u001b[0m\n\u001b[0m\u001b[1;32m    133\u001b[0m     ''' Array of x,y points.\n\u001b[1;32m    134\u001b[0m         \u001b[0mThis\u001b[0m \u001b[0;32mis\u001b[0m \u001b[0mthe\u001b[0m \u001b[0mworkhorse\u001b[0m \u001b[0;32mclass\u001b[0m \u001b[0mof\u001b[0m\u001b[0;31m \u001b[0m\u001b[0;31m`\u001b[0m\u001b[0;31m`\u001b[0m\u001b[0mlightlab\u001b[0m\u001b[0;31m`\u001b[0m\u001b[0;31m`\u001b[0m \u001b[0mdata\u001b[0m \u001b[0mstructures\u001b[0m\u001b[0;34m.\u001b[0m\u001b[0;34m\u001b[0m\u001b[0m\n",
      "\u001b[0;31mNameError\u001b[0m: name 'SigProcMixin' is not defined"
     ]
    }
   ],
   "source": [
    "# Reload modules every time code is called. Set autoreload 0 to disable\n",
    "%load_ext autoreload\n",
    "%autoreload 2\n",
    "\n",
    "import numpy as np\n",
    "import matplotlib.pyplot as plt\n",
    "\n",
    "import lightlab.util.data as dUtil\n",
    "from lightlab.util.data import FunctionalBasis, Waveform, FunctionBundle"
   ]
  },
  {
   "cell_type": "markdown",
   "metadata": {},
   "source": [
    "## Initial signals"
   ]
  },
  {
   "cell_type": "code",
   "execution_count": null,
   "metadata": {
    "scrolled": true
   },
   "outputs": [],
   "source": [
    "# Make some simple signals\n",
    "t = np.linspace(0,1,300)\n",
    "# noi1 = Waveform(t, .05 * np.random.randn(len(t))) # pseudo-noise\n",
    "noi1 = Waveform(t, .1 * np.sin(2*np.pi*50*t))\n",
    "sou1 = Waveform(t, np.sin(2*np.pi*2*t) * np.sin(2*np.pi*10*t))\n",
    "sou2 = Waveform(t, np.cos(2*np.pi*5*t) + 0*np.sign(t%.2 - .1)) + noi1\n",
    "# Mixtures\n",
    "rec1 = .9 * sou1 - .6 * sou2\n",
    "rec2 = .1 * sou1 + .8 * sou2\n",
    "# Other signal\n",
    "rec3 = Waveform(t, .4 * np.sin(25*t)) - .5*noi1 \n",
    "\n",
    "# High sampling rate signals\n",
    "# t = np.linspace(0,1, 10000)\n",
    "# n1 = Waveform(t, .05 * np.random.randn(len(t))) # pseudo-noise\n",
    "# s3 = Waveform(t, .05 * np.random.randn(len(t))) # pseudo-noise\n",
    "# carrierFreq = 8\n",
    "# modFreq = 2\n",
    "# s1 = Waveform(t, np.sin(2*np.pi*carrierFreq*t) * (1 + np.cos(2*np.pi*modFreq*t)) / 2)\n",
    "# s2 = Waveform(t, np.sin(2*np.pi*carrierFreq*t))"
   ]
  },
  {
   "cell_type": "markdown",
   "metadata": {},
   "source": [
    "## Create signal basis"
   ]
  },
  {
   "cell_type": "code",
   "execution_count": null,
   "metadata": {},
   "outputs": [],
   "source": [
    "# bTest only contains s1 and s2, while bFull has everything\n",
    "bTest = FunctionalBasis([rec1,rec2])\n",
    "bFull = FunctionalBasis([rec1,rec2,rec3,noi1])\n",
    "for i,ax in enumerate(bFull.multiAxisPlot()):\n",
    "    ax.set_title(['rec1', 'rec2', 'rec3', 'noi1'][i])"
   ]
  },
  {
   "cell_type": "code",
   "execution_count": null,
   "metadata": {},
   "outputs": [],
   "source": [
    "# makes a trial function based on weighted addition of the full basis\n",
    "# decompose limited basis and look at remainder\n",
    "# then decompose the remainder in the full basis\n",
    "def trial(weights):\n",
    "    tfun = bFull.weightedAddition(weights)\n",
    "#     print(tfun.ordi.shape)\n",
    "    tfun.simplePlot()\n",
    "    dec = bTest.decompose(tfun)\n",
    "    bTest.weightedAddition(dec).simplePlot()\n",
    "    for i in range(len(dec)):\n",
    "        print('Weight {}: actual {:2.3f}, test decomposed {:2.3f}'.format(i, weights[i], dec[i]))\n",
    "        \n",
    "    rfun = bTest.remainder(tfun)\n",
    "#     rfun.simplePlot()\n",
    "    \n",
    "    fullDec = bFull.decompose(rfun)\n",
    "    print()\n",
    "    for i in range(len(fullDec)):\n",
    "        print('Remainder {}: {:2.3f}'.format(i, fullDec[i]))"
   ]
  },
  {
   "cell_type": "code",
   "execution_count": null,
   "metadata": {},
   "outputs": [],
   "source": [
    "# try it yourself by entering weights for rec1,2,3, and noi1\n",
    "trial(np.array([-.7,.5,-2,1]))"
   ]
  },
  {
   "cell_type": "markdown",
   "metadata": {},
   "source": [
    "## Component analysis\n",
    "Methods for computing the principal components and independent components of the full basis. They use the SVD methods that are typical of digital processors."
   ]
  },
  {
   "cell_type": "code",
   "execution_count": null,
   "metadata": {},
   "outputs": [],
   "source": [
    "bFull.componentAnalysis(pcaIca=True).simplePlot()"
   ]
  },
  {
   "cell_type": "markdown",
   "metadata": {},
   "source": [
    "And here are the independent components"
   ]
  },
  {
   "cell_type": "code",
   "execution_count": null,
   "metadata": {},
   "outputs": [],
   "source": [
    "bFull.componentAnalysis(pcaIca=False).simplePlot()"
   ]
  },
  {
   "cell_type": "markdown",
   "metadata": {},
   "source": [
    "## FunctionBundle feedthroughs\n",
    "Methods for `MeasuredFunction` signal processing can be called directly on bundles of them.\n",
    "\n",
    "This means that the process is applied to each member function, which are then rebundled and returned "
   ]
  },
  {
   "cell_type": "code",
   "execution_count": null,
   "metadata": {},
   "outputs": [],
   "source": [
    "repack = bFull.lowPass(.05).deleteSegment([.4, .6])\n",
    "repack.simplePlot()\n",
    "assert type(bFull) is type(repack)\n",
    "assert bFull.lowPass.__doc__ == Waveform.lowPass.__doc__"
   ]
  },
  {
   "cell_type": "code",
   "execution_count": null,
   "metadata": {},
   "outputs": [],
   "source": []
  }
 ],
 "metadata": {
  "kernelspec": {
   "display_name": "Python 3",
   "language": "python",
   "name": "python3"
  },
  "language_info": {
   "codemirror_mode": {
    "name": "ipython",
    "version": 3
   },
   "file_extension": ".py",
   "mimetype": "text/x-python",
   "name": "python",
   "nbconvert_exporter": "python",
   "pygments_lexer": "ipython3",
   "version": "3.6.4"
  }
 },
 "nbformat": 4,
 "nbformat_minor": 2
}
