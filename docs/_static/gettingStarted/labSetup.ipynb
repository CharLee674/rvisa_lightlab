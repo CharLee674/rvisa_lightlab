{
 "cells": [
  {
   "cell_type": "markdown",
   "metadata": {},
   "source": [
    "# Instrument configuration"
   ]
  },
  {
   "cell_type": "code",
   "execution_count": 1,
   "metadata": {},
   "outputs": [
    {
     "name": "stdout",
     "output_type": "stream",
     "text": [
      "visa://alice.school.edu/GPIB0::16::INSTR\n",
      "visa://alice.school.edu/GPIB0::18::INSTR\n",
      "visa://alice.school.edu/GPIB0::21::INSTR\n"
     ]
    }
   ],
   "source": [
    "from lightlab.laboratory.state import lab\n",
    "from lightlab.laboratory.instruments import Host, Bench\n",
    "\n",
    "thisBench = lab.benches['bob']\n",
    "\n",
    "thisHost = lab.hosts['alice']\n",
    "print('Host available addresses:')\n",
    "for resource in thisHost.list_gpib_resources_info():\n",
    "    print(resource)"
   ]
  },
  {
   "cell_type": "code",
   "execution_count": null,
   "metadata": {},
   "outputs": [],
   "source": [
    "from lightlab.laboratory.instruments import Keithley\n",
    "from lightlab.equipment.lab_instruments import Keithley_2400_SM_noRamp\n",
    "\n",
    "newInst = Keithley(name=\"Keithley 21\", \n",
    "                    address=\"visa://alice.school.edu/GPIB0::21::INSTR\",\n",
    "                    _driver_class = Keithley_2400_SM_noRamp,\n",
    "                    bench = thisBench,\n",
    "                    host = thisHost\n",
    "                    )\n",
    "\n",
    "try:\n",
    "    oldInst = lab.instruments_dict[newInst.name]\n",
    "except KeyError:\n",
    "    print('This is a new instrument')\n",
    "else:\n",
    "    print('You are overwriting! Make sure everything is specified (i.e. ports, useChans, etc.)\\n')\n",
    "    oldInst.display()\n",
    "    print('\\n*** TO ***\\n')\n",
    "    newInst.display()"
   ]
  },
  {
   "cell_type": "code",
   "execution_count": 3,
   "metadata": {},
   "outputs": [],
   "source": [
    "# Make the change and save. Be careful!\n",
    "lab.deleteInstrumentFromName(newInst.name)  # deleting previous instance, if it is there\n",
    "lab.insertInstrument(newInst)  # inserting new instance\n",
    "lab.saveState()"
   ]
  },
  {
   "cell_type": "code",
   "execution_count": 4,
   "metadata": {},
   "outputs": [
    {
     "data": {
      "text/plain": [
       "True"
      ]
     },
     "execution_count": 4,
     "metadata": {},
     "output_type": "execute_result"
    }
   ],
   "source": [
    "# Test it\n",
    "gotten = lab.instruments_dict[newInst.name]\n",
    "gotten.isLive()"
   ]
  }
 ],
 "metadata": {
  "kernelspec": {
   "display_name": "Python 3",
   "language": "python",
   "name": "python3"
  },
  "language_info": {
   "codemirror_mode": {
    "name": "ipython",
    "version": 3
   },
   "file_extension": ".py",
   "mimetype": "text/x-python",
   "name": "python",
   "nbconvert_exporter": "python",
   "pygments_lexer": "ipython3",
   "version": "3.6.4"
  }
 },
 "nbformat": 4,
 "nbformat_minor": 2
}
