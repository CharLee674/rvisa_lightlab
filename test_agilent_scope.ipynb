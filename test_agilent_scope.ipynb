{
 "cells": [
  {
   "cell_type": "code",
   "execution_count": 1,
   "metadata": {},
   "outputs": [],
   "source": [
    "import lightlab.equipment.lab_instruments as instrs"
   ]
  },
  {
   "cell_type": "code",
   "execution_count": 2,
   "metadata": {},
   "outputs": [
    {
     "data": {
      "text/plain": [
       "['Advantest_Q8221_PM',\n",
       " 'Agilent_33220_FG',\n",
       " 'Agilent_83712B_clock',\n",
       " 'Agilent_N5183A_VG',\n",
       " 'Agilent_N5222A_NA',\n",
       " 'Agilent_Oscope',\n",
       " 'Anritsu_MP1763B_PPG',\n",
       " 'Apex_AP2440A_OSA',\n",
       " 'Arduino_Instrument',\n",
       " 'BuggyHardware',\n",
       " 'HP_8116A_FG',\n",
       " 'HP_8152A_PM',\n",
       " 'HP_8156A_VA',\n",
       " 'HP_8157A_VA',\n",
       " 'ILX_7900B_LS',\n",
       " 'Keithley_2400_SM',\n",
       " 'Keithley_2606B_SMU',\n",
       " 'N77',\n",
       " 'NI_PCI_6723',\n",
       " 'RVISAInstrumentDriver',\n",
       " 'RandS_SMBV100A_VG',\n",
       " 'Remote_Agilent_Oscope',\n",
       " 'Remote_Tektronix_DPO4034_Oscope',\n",
       " 'Tektronix_CSA8000_CAS',\n",
       " 'Tektronix_DPO4032_Oscope',\n",
       " 'Tektronix_DPO4034_Oscope',\n",
       " 'Tektronix_DSA8300_Oscope',\n",
       " 'Tektronix_PPG3202',\n",
       " 'Tektronix_RSA6120B_RFSA',\n",
       " 'Tektronix_TDS6154C_Oscope',\n",
       " 'VISAInstrumentDriver',\n",
       " '_',\n",
       " '__builtins__',\n",
       " '__cached__',\n",
       " '__doc__',\n",
       " '__file__',\n",
       " '__loader__',\n",
       " '__name__',\n",
       " '__package__',\n",
       " '__path__',\n",
       " '__spec__',\n",
       " '_temp',\n",
       " 'importlib',\n",
       " 'k',\n",
       " 'modname',\n",
       " 'mro',\n",
       " 'pkgutil',\n",
       " 'v']"
      ]
     },
     "execution_count": 2,
     "metadata": {},
     "output_type": "execute_result"
    }
   ],
   "source": [
    "dir(instrs)"
   ]
  },
  {
   "cell_type": "code",
   "execution_count": 1,
   "metadata": {},
   "outputs": [],
   "source": [
    "from lightlab.equipment.lab_instruments import Remote_Agilent_Oscope"
   ]
  },
  {
   "cell_type": "code",
   "execution_count": 2,
   "metadata": {},
   "outputs": [],
   "source": [
    "link = 'https://1000000058948db1-api.nwtech.win/'"
   ]
  },
  {
   "cell_type": "code",
   "execution_count": 3,
   "metadata": {},
   "outputs": [],
   "source": [
    "remote = Remote_Agilent_Oscope(address=\"GPIB0::7::INSTR\", url=link)"
   ]
  },
  {
   "cell_type": "code",
   "execution_count": 4,
   "metadata": {},
   "outputs": [
    {
     "data": {
      "text/plain": [
       "['_Configurable__getFullHardwareConfig',\n",
       " '_Remote_Agilent_Oscope__getUnit',\n",
       " '_Remote_Agilent_Oscope__scaleData',\n",
       " '_Remote_Agilent_Oscope__transferData',\n",
       " '_TekScopeAbstract__getUnit',\n",
       " '_TekScopeAbstract__scaleData',\n",
       " '_TekScopeAbstract__transferData',\n",
       " '__class__',\n",
       " '__delattr__',\n",
       " '__dict__',\n",
       " '__dir__',\n",
       " '__doc__',\n",
       " '__eq__',\n",
       " '__format__',\n",
       " '__ge__',\n",
       " '__getattr__',\n",
       " '__getattribute__',\n",
       " '__gt__',\n",
       " '__hash__',\n",
       " '__init__',\n",
       " '__init_subclass__',\n",
       " '__le__',\n",
       " '__lt__',\n",
       " '__module__',\n",
       " '__ne__',\n",
       " '__new__',\n",
       " '__reduce__',\n",
       " '__reduce_ex__',\n",
       " '__repr__',\n",
       " '__setattr__',\n",
       " '__sizeof__',\n",
       " '__str__',\n",
       " '__subclasshook__',\n",
       " '__weakref__',\n",
       " '_clearBeforeAcquire',\n",
       " '_getHardwareConfig',\n",
       " '_measurementSourceParam',\n",
       " '_recLenParam',\n",
       " '_runModeParam',\n",
       " '_runModeSingleShot',\n",
       " '_session_object',\n",
       " '_setHardwareConfig',\n",
       " '_setupSingleShot',\n",
       " '_triggerAcquire',\n",
       " '_yScaleParam',\n",
       " 'acquire',\n",
       " 'autoAdjust',\n",
       " 'close',\n",
       " 'config',\n",
       " 'generateDefaults',\n",
       " 'getConfigParam',\n",
       " 'getDefaultFilename',\n",
       " 'initHardware',\n",
       " 'instrument_category',\n",
       " 'loadConfig',\n",
       " 'measure',\n",
       " 'open',\n",
       " 'reinstantiate_session',\n",
       " 'run',\n",
       " 'saveConfig',\n",
       " 'setConfigParam',\n",
       " 'setMeasurement',\n",
       " 'startup',\n",
       " 'tempConfig',\n",
       " 'timebaseConfig',\n",
       " 'totalChans',\n",
       " 'wfmDb']"
      ]
     },
     "execution_count": 4,
     "metadata": {},
     "output_type": "execute_result"
    }
   ],
   "source": [
    "dir(Remote_Agilent_Oscope)"
   ]
  },
  {
   "cell_type": "code",
   "execution_count": 5,
   "metadata": {},
   "outputs": [
    {
     "data": {
      "text/plain": [
       "['_Instrument__driver_object',\n",
       " '__class__',\n",
       " '__delattr__',\n",
       " '__dict__',\n",
       " '__dir__',\n",
       " '__doc__',\n",
       " '__eq__',\n",
       " '__format__',\n",
       " '__ge__',\n",
       " '__getattr__',\n",
       " '__getattribute__',\n",
       " '__getstate__',\n",
       " '__gt__',\n",
       " '__hash__',\n",
       " '__init__',\n",
       " '__init_subclass__',\n",
       " '__le__',\n",
       " '__lt__',\n",
       " '__module__',\n",
       " '__ne__',\n",
       " '__new__',\n",
       " '__reduce__',\n",
       " '__reduce_ex__',\n",
       " '__repr__',\n",
       " '__setattr__',\n",
       " '__setstate__',\n",
       " '__sizeof__',\n",
       " '__str__',\n",
       " '__subclasshook__',\n",
       " '__weakref__',\n",
       " '_bench',\n",
       " '_driver_class',\n",
       " '_host',\n",
       " '_id_string',\n",
       " '_name',\n",
       " '_toJSON',\n",
       " 'acquire',\n",
       " 'address',\n",
       " 'bench',\n",
       " 'connectHost',\n",
       " 'context',\n",
       " 'display',\n",
       " 'driver',\n",
       " 'driver_class',\n",
       " 'driver_kwargs',\n",
       " 'driver_object',\n",
       " 'essentialMethods',\n",
       " 'essentialProperties',\n",
       " 'hardware_cooldown',\n",
       " 'hardware_warmup',\n",
       " 'host',\n",
       " 'id_string',\n",
       " 'implementedOptionals',\n",
       " 'isLive',\n",
       " 'name',\n",
       " 'optionalAttributes',\n",
       " 'placeBench',\n",
       " 'ports',\n",
       " 'run',\n",
       " 'startup',\n",
       " 'warmedUp',\n",
       " 'wfmDb']"
      ]
     },
     "execution_count": 5,
     "metadata": {},
     "output_type": "execute_result"
    }
   ],
   "source": [
    "dir(remote)"
   ]
  },
  {
   "cell_type": "code",
   "execution_count": 4,
   "metadata": {},
   "outputs": [
    {
     "name": "stdout",
     "output_type": "stream",
     "text": [
      "RESOURCE SUCCESSFULLY CLEARED\n",
      "RESOURCE SUCCESSFULLY CLOSED\n"
     ]
    }
   ],
   "source": [
    "remote.driver.clear()"
   ]
  },
  {
   "cell_type": "code",
   "execution_count": 5,
   "metadata": {},
   "outputs": [
    {
     "data": {
      "text/plain": [
       "'AGILENT TECHNOLOGIES,54622D,MY40005835,A.02.01'"
      ]
     },
     "execution_count": 5,
     "metadata": {},
     "output_type": "execute_result"
    }
   ],
   "source": [
    "remote.driver.query('*IDN?')"
   ]
  },
  {
   "cell_type": "code",
   "execution_count": 6,
   "metadata": {},
   "outputs": [
    {
     "name": "stdout",
     "output_type": "stream",
     "text": [
      "500 RESPONSE:  {'read': 'ERROR: COULD NOT QUERY GPIB0::7::INSTR. EXCEPTION: VI_ERROR_TMO (-1073807339): Timeout expired before operation completed.'}\n"
     ]
    },
    {
     "ename": "AttributeError",
     "evalue": "'NoneType' object has no attribute 'rstrip'",
     "output_type": "error",
     "traceback": [
      "\u001b[0;31m---------------------------------------------------------------------------\u001b[0m",
      "\u001b[0;31mAttributeError\u001b[0m                            Traceback (most recent call last)",
      "\u001b[0;32m<ipython-input-6-8013e0efcda0>\u001b[0m in \u001b[0;36m<module>\u001b[0;34m\u001b[0m\n\u001b[0;32m----> 1\u001b[0;31m \u001b[0mprint\u001b[0m\u001b[0;34m(\u001b[0m\u001b[0mremote\u001b[0m\u001b[0;34m.\u001b[0m\u001b[0macquire\u001b[0m\u001b[0;34m(\u001b[0m\u001b[0mchans\u001b[0m\u001b[0;34m=\u001b[0m\u001b[0;34m[\u001b[0m\u001b[0;36m1\u001b[0m\u001b[0;34m]\u001b[0m\u001b[0;34m)\u001b[0m\u001b[0;34m)\u001b[0m\u001b[0;34m\u001b[0m\u001b[0;34m\u001b[0m\u001b[0m\n\u001b[0m",
      "\u001b[0;32m~/work/rvisa_lightlab/lightlab/equipment/lab_instruments/Agilent_Oscope.py\u001b[0m in \u001b[0;36macquire\u001b[0;34m(self, chans, timeout, **kwargs)\u001b[0m\n\u001b[1;32m    101\u001b[0m         \u001b[0;32mfor\u001b[0m \u001b[0mi\u001b[0m\u001b[0;34m,\u001b[0m \u001b[0mc\u001b[0m \u001b[0;32min\u001b[0m \u001b[0menumerate\u001b[0m\u001b[0;34m(\u001b[0m\u001b[0mchans\u001b[0m\u001b[0;34m)\u001b[0m\u001b[0;34m:\u001b[0m\u001b[0;34m\u001b[0m\u001b[0;34m\u001b[0m\u001b[0m\n\u001b[1;32m    102\u001b[0m             \u001b[0mvRaw\u001b[0m \u001b[0;34m=\u001b[0m \u001b[0mself\u001b[0m\u001b[0;34m.\u001b[0m\u001b[0m__transferData\u001b[0m\u001b[0;34m(\u001b[0m\u001b[0mc\u001b[0m\u001b[0;34m)\u001b[0m\u001b[0;34m\u001b[0m\u001b[0;34m\u001b[0m\u001b[0m\n\u001b[0;32m--> 103\u001b[0;31m             \u001b[0mt\u001b[0m\u001b[0;34m,\u001b[0m \u001b[0mv\u001b[0m \u001b[0;34m=\u001b[0m \u001b[0mself\u001b[0m\u001b[0;34m.\u001b[0m\u001b[0m__scaleData\u001b[0m\u001b[0;34m(\u001b[0m\u001b[0mvRaw\u001b[0m\u001b[0;34m,\u001b[0m \u001b[0mchans\u001b[0m\u001b[0;34m)\u001b[0m\u001b[0;34m\u001b[0m\u001b[0;34m\u001b[0m\u001b[0m\n\u001b[0m\u001b[1;32m    104\u001b[0m             \u001b[0;31m# Optical modules might produce 'W' instead of 'V'\u001b[0m\u001b[0;34m\u001b[0m\u001b[0;34m\u001b[0m\u001b[0;34m\u001b[0m\u001b[0m\n\u001b[1;32m    105\u001b[0m             \u001b[0munit\u001b[0m \u001b[0;34m=\u001b[0m \u001b[0mself\u001b[0m\u001b[0;34m.\u001b[0m\u001b[0m__getUnit\u001b[0m\u001b[0;34m(\u001b[0m\u001b[0;34m)\u001b[0m\u001b[0;34m\u001b[0m\u001b[0;34m\u001b[0m\u001b[0m\n",
      "\u001b[0;32m~/work/rvisa_lightlab/lightlab/equipment/lab_instruments/Agilent_Oscope.py\u001b[0m in \u001b[0;36m__scaleData\u001b[0;34m(self, voltRaw, ch)\u001b[0m\n\u001b[1;32m    173\u001b[0m         '''\n\u001b[1;32m    174\u001b[0m         \u001b[0mget\u001b[0m \u001b[0;34m=\u001b[0m \u001b[0;32mlambda\u001b[0m \u001b[0mparam\u001b[0m\u001b[0;34m:\u001b[0m \u001b[0mfloat\u001b[0m\u001b[0;34m(\u001b[0m\u001b[0mself\u001b[0m\u001b[0;34m.\u001b[0m\u001b[0mgetConfigParam\u001b[0m\u001b[0;34m(\u001b[0m\u001b[0;34mf\"CHANNEL{ch}:UNITS\"\u001b[0m \u001b[0;34m+\u001b[0m \u001b[0mparam\u001b[0m\u001b[0;34m,\u001b[0m \u001b[0mforceHardware\u001b[0m\u001b[0;34m=\u001b[0m\u001b[0;32mTrue\u001b[0m\u001b[0;34m)\u001b[0m\u001b[0;34m)\u001b[0m\u001b[0;34m\u001b[0m\u001b[0;34m\u001b[0m\u001b[0m\n\u001b[0;32m--> 175\u001b[0;31m         \u001b[0mvoltage\u001b[0m \u001b[0;34m=\u001b[0m \u001b[0;34m(\u001b[0m\u001b[0mnp\u001b[0m\u001b[0;34m.\u001b[0m\u001b[0marray\u001b[0m\u001b[0;34m(\u001b[0m\u001b[0mvoltRaw\u001b[0m\u001b[0;34m)\u001b[0m \u001b[0;34m-\u001b[0m \u001b[0mget\u001b[0m\u001b[0;34m(\u001b[0m\u001b[0;34m\"WAVEFORM:YREFERENCE\"\u001b[0m\u001b[0;34m)\u001b[0m\u001b[0;34m)\u001b[0m\u001b[0;31m \u001b[0m\u001b[0;31m\\\u001b[0m\u001b[0;34m\u001b[0m\u001b[0;34m\u001b[0m\u001b[0m\n\u001b[0m\u001b[1;32m    176\u001b[0m             \u001b[0;34m*\u001b[0m \u001b[0mget\u001b[0m\u001b[0;34m(\u001b[0m\u001b[0mself\u001b[0m\u001b[0;34m.\u001b[0m\u001b[0m_yScaleParam\u001b[0m\u001b[0;34m(\u001b[0m\u001b[0mch\u001b[0m\u001b[0;34m)\u001b[0m\u001b[0;34m)\u001b[0m\u001b[0;31m \u001b[0m\u001b[0;31m\\\u001b[0m\u001b[0;34m\u001b[0m\u001b[0;34m\u001b[0m\u001b[0m\n\u001b[1;32m    177\u001b[0m             \u001b[0;34m+\u001b[0m \u001b[0mget\u001b[0m\u001b[0;34m(\u001b[0m\u001b[0;34m'WAVEFORM:YORIGIN'\u001b[0m\u001b[0;34m)\u001b[0m\u001b[0;34m\u001b[0m\u001b[0;34m\u001b[0m\u001b[0m\n",
      "\u001b[0;32m~/work/rvisa_lightlab/lightlab/equipment/lab_instruments/Agilent_Oscope.py\u001b[0m in \u001b[0;36m<lambda>\u001b[0;34m(param)\u001b[0m\n\u001b[1;32m    172\u001b[0m                 \u001b[0mYSCALE\u001b[0m\u001b[0;34m,\u001b[0m \u001b[0mthe\u001b[0m \u001b[0mconversion\u001b[0m \u001b[0mfactor\u001b[0m \u001b[0mbetween\u001b[0m \u001b[0mposition\u001b[0m \u001b[0;32mand\u001b[0m \u001b[0mvoltage\u001b[0m\u001b[0;34m.\u001b[0m\u001b[0;34m\u001b[0m\u001b[0;34m\u001b[0m\u001b[0m\n\u001b[1;32m    173\u001b[0m         '''\n\u001b[0;32m--> 174\u001b[0;31m         \u001b[0mget\u001b[0m \u001b[0;34m=\u001b[0m \u001b[0;32mlambda\u001b[0m \u001b[0mparam\u001b[0m\u001b[0;34m:\u001b[0m \u001b[0mfloat\u001b[0m\u001b[0;34m(\u001b[0m\u001b[0mself\u001b[0m\u001b[0;34m.\u001b[0m\u001b[0mgetConfigParam\u001b[0m\u001b[0;34m(\u001b[0m\u001b[0;34mf\"CHANNEL{ch}:UNITS\"\u001b[0m \u001b[0;34m+\u001b[0m \u001b[0mparam\u001b[0m\u001b[0;34m,\u001b[0m \u001b[0mforceHardware\u001b[0m\u001b[0;34m=\u001b[0m\u001b[0;32mTrue\u001b[0m\u001b[0;34m)\u001b[0m\u001b[0;34m)\u001b[0m\u001b[0;34m\u001b[0m\u001b[0;34m\u001b[0m\u001b[0m\n\u001b[0m\u001b[1;32m    175\u001b[0m         \u001b[0mvoltage\u001b[0m \u001b[0;34m=\u001b[0m \u001b[0;34m(\u001b[0m\u001b[0mnp\u001b[0m\u001b[0;34m.\u001b[0m\u001b[0marray\u001b[0m\u001b[0;34m(\u001b[0m\u001b[0mvoltRaw\u001b[0m\u001b[0;34m)\u001b[0m \u001b[0;34m-\u001b[0m \u001b[0mget\u001b[0m\u001b[0;34m(\u001b[0m\u001b[0;34m\"WAVEFORM:YREFERENCE\"\u001b[0m\u001b[0;34m)\u001b[0m\u001b[0;34m)\u001b[0m\u001b[0;31m \u001b[0m\u001b[0;31m\\\u001b[0m\u001b[0;34m\u001b[0m\u001b[0;34m\u001b[0m\u001b[0m\n\u001b[1;32m    176\u001b[0m             \u001b[0;34m*\u001b[0m \u001b[0mget\u001b[0m\u001b[0;34m(\u001b[0m\u001b[0mself\u001b[0m\u001b[0;34m.\u001b[0m\u001b[0m_yScaleParam\u001b[0m\u001b[0;34m(\u001b[0m\u001b[0mch\u001b[0m\u001b[0;34m)\u001b[0m\u001b[0;34m)\u001b[0m\u001b[0;31m \u001b[0m\u001b[0;31m\\\u001b[0m\u001b[0;34m\u001b[0m\u001b[0;34m\u001b[0m\u001b[0m\n",
      "\u001b[0;32m~/work/rvisa_lightlab/lightlab/equipment/abstract_drivers/configurable.py\u001b[0m in \u001b[0;36mgetConfigParam\u001b[0;34m(self, cStr, forceHardware)\u001b[0m\n\u001b[1;32m    327\u001b[0m             \u001b[0mprevVal\u001b[0m \u001b[0;34m=\u001b[0m \u001b[0;32mNone\u001b[0m\u001b[0;34m\u001b[0m\u001b[0;34m\u001b[0m\u001b[0m\n\u001b[1;32m    328\u001b[0m         \u001b[0;32mif\u001b[0m \u001b[0mprevVal\u001b[0m \u001b[0;32mis\u001b[0m \u001b[0;32mNone\u001b[0m \u001b[0;32mor\u001b[0m \u001b[0mforceHardware\u001b[0m\u001b[0;34m:\u001b[0m  \u001b[0;31m# Try getting from hardware\u001b[0m\u001b[0;34m\u001b[0m\u001b[0;34m\u001b[0m\u001b[0m\n\u001b[0;32m--> 329\u001b[0;31m             \u001b[0mself\u001b[0m\u001b[0;34m.\u001b[0m\u001b[0m_getHardwareConfig\u001b[0m\u001b[0;34m(\u001b[0m\u001b[0mcStr\u001b[0m\u001b[0;34m)\u001b[0m\u001b[0;34m\u001b[0m\u001b[0;34m\u001b[0m\u001b[0m\n\u001b[0m\u001b[1;32m    330\u001b[0m         \u001b[0;32mif\u001b[0m \u001b[0mprevVal\u001b[0m \u001b[0;32mis\u001b[0m \u001b[0;32mNone\u001b[0m\u001b[0;34m:\u001b[0m  \u001b[0;31m# This is the first time getting, so it goes in 'init'\u001b[0m\u001b[0;34m\u001b[0m\u001b[0;34m\u001b[0m\u001b[0m\n\u001b[1;32m    331\u001b[0m             \u001b[0mself\u001b[0m\u001b[0;34m.\u001b[0m\u001b[0mconfig\u001b[0m\u001b[0;34m[\u001b[0m\u001b[0;34m'init'\u001b[0m\u001b[0;34m]\u001b[0m\u001b[0;34m.\u001b[0m\u001b[0mtransfer\u001b[0m\u001b[0;34m(\u001b[0m\u001b[0mself\u001b[0m\u001b[0;34m.\u001b[0m\u001b[0mconfig\u001b[0m\u001b[0;34m[\u001b[0m\u001b[0;34m'live'\u001b[0m\u001b[0;34m]\u001b[0m\u001b[0;34m,\u001b[0m \u001b[0mcStr\u001b[0m\u001b[0;34m)\u001b[0m\u001b[0;34m\u001b[0m\u001b[0;34m\u001b[0m\u001b[0m\n",
      "\u001b[0;32m~/work/rvisa_lightlab/lightlab/equipment/abstract_drivers/configurable.py\u001b[0m in \u001b[0;36m_getHardwareConfig\u001b[0;34m(self, cStrList)\u001b[0m\n\u001b[1;32m    447\u001b[0m \u001b[0;34m\u001b[0m\u001b[0m\n\u001b[1;32m    448\u001b[0m             \u001b[0;32mtry\u001b[0m\u001b[0;34m:\u001b[0m\u001b[0;34m\u001b[0m\u001b[0;34m\u001b[0m\u001b[0m\n\u001b[0;32m--> 449\u001b[0;31m                 \u001b[0mret\u001b[0m \u001b[0;34m=\u001b[0m \u001b[0mself\u001b[0m\u001b[0;34m.\u001b[0m\u001b[0mquery\u001b[0m\u001b[0;34m(\u001b[0m\u001b[0mcStr\u001b[0m \u001b[0;34m+\u001b[0m \u001b[0;34m'?'\u001b[0m\u001b[0;34m)\u001b[0m\u001b[0;34m\u001b[0m\u001b[0;34m\u001b[0m\u001b[0m\n\u001b[0m\u001b[1;32m    450\u001b[0m             \u001b[0;32mexcept\u001b[0m \u001b[0mVisaIOError\u001b[0m\u001b[0;34m:\u001b[0m\u001b[0;34m\u001b[0m\u001b[0;34m\u001b[0m\u001b[0m\n\u001b[1;32m    451\u001b[0m                 logger.error('Problematic parameter was %s.\\n'\n",
      "\u001b[0;32m~/work/rvisa_lightlab/lightlab/equipment/visa_bases/rvisa_object.py\u001b[0m in \u001b[0;36mquery\u001b[0;34m(self, queryStr, withTimeout)\u001b[0m\n\u001b[1;32m     75\u001b[0m                 \u001b[0;31m# self.close()\u001b[0m\u001b[0;34m\u001b[0m\u001b[0;34m\u001b[0m\u001b[0;34m\u001b[0m\u001b[0m\n\u001b[1;32m     76\u001b[0m                 \u001b[0;32mraise\u001b[0m\u001b[0;34m\u001b[0m\u001b[0;34m\u001b[0m\u001b[0m\n\u001b[0;32m---> 77\u001b[0;31m             \u001b[0mretStr\u001b[0m \u001b[0;34m=\u001b[0m \u001b[0mretStr\u001b[0m\u001b[0;34m.\u001b[0m\u001b[0mrstrip\u001b[0m\u001b[0;34m(\u001b[0m\u001b[0;34m)\u001b[0m\u001b[0;34m\u001b[0m\u001b[0;34m\u001b[0m\u001b[0m\n\u001b[0m\u001b[1;32m     78\u001b[0m             \u001b[0mlogger\u001b[0m\u001b[0;34m.\u001b[0m\u001b[0mdebug\u001b[0m\u001b[0;34m(\u001b[0m\u001b[0;34m'Query Read - %s'\u001b[0m\u001b[0;34m,\u001b[0m \u001b[0mretStr\u001b[0m\u001b[0;34m)\u001b[0m\u001b[0;34m\u001b[0m\u001b[0;34m\u001b[0m\u001b[0m\n\u001b[1;32m     79\u001b[0m         \u001b[0;32mfinally\u001b[0m\u001b[0;34m:\u001b[0m\u001b[0;34m\u001b[0m\u001b[0;34m\u001b[0m\u001b[0m\n",
      "\u001b[0;31mAttributeError\u001b[0m: 'NoneType' object has no attribute 'rstrip'"
     ]
    }
   ],
   "source": [
    "print(remote.acquire(chans=[1]))"
   ]
  },
  {
   "cell_type": "code",
   "execution_count": null,
   "metadata": {},
   "outputs": [],
   "source": []
  }
 ],
 "metadata": {
  "kernelspec": {
   "display_name": "Python 3",
   "language": "python",
   "name": "python3"
  },
  "language_info": {
   "codemirror_mode": {
    "name": "ipython",
    "version": 3
   },
   "file_extension": ".py",
   "mimetype": "text/x-python",
   "name": "python",
   "nbconvert_exporter": "python",
   "pygments_lexer": "ipython3",
   "version": "3.8.4"
  }
 },
 "nbformat": 4,
 "nbformat_minor": 4
}
