{
 "cells": [
  {
   "cell_type": "code",
   "execution_count": 71,
   "metadata": {},
   "outputs": [],
   "source": [
    "%load_ext autoreload"
   ]
  },
  {
   "cell_type": "code",
   "execution_count": 72,
   "metadata": {},
   "outputs": [],
   "source": [
    "%autoreload 2"
   ]
  },
  {
   "cell_type": "markdown",
   "metadata": {},
   "source": [
    "# Basic VISA_OBJECT test"
   ]
  },
  {
   "cell_type": "code",
   "execution_count": 73,
   "metadata": {},
   "outputs": [],
   "source": [
    "import lightlab.equipment.visa_bases as visa_obj"
   ]
  },
  {
   "cell_type": "code",
   "execution_count": 74,
   "metadata": {},
   "outputs": [
    {
     "data": {
      "text/plain": [
       "<module 'lightlab.equipment.visa_bases' from '/home/jovyan/work/rvisa_lightlab/lightlab/equipment/visa_bases/__init__.py'>"
      ]
     },
     "execution_count": 74,
     "metadata": {},
     "output_type": "execute_result"
    }
   ],
   "source": [
    "visa_obj"
   ]
  },
  {
   "cell_type": "code",
   "execution_count": 75,
   "metadata": {},
   "outputs": [],
   "source": [
    "instr = visa_obj.RVISAObject(\"GPIB0::7::INSTR\", url=\"https://1000000058948db1-api.nwtech.win/\")"
   ]
  },
  {
   "cell_type": "code",
   "execution_count": 76,
   "metadata": {},
   "outputs": [],
   "source": [
    "instr.open()"
   ]
  },
  {
   "cell_type": "code",
   "execution_count": 77,
   "metadata": {},
   "outputs": [
    {
     "data": {
      "text/plain": [
       "'AGILENT TECHNOLOGIES,54622D,MY40005835,A.02.01'"
      ]
     },
     "execution_count": 77,
     "metadata": {},
     "output_type": "execute_result"
    }
   ],
   "source": [
    "instr.instrID()"
   ]
  },
  {
   "cell_type": "code",
   "execution_count": 80,
   "metadata": {},
   "outputs": [
    {
     "data": {
      "text/plain": [
       "'N2757A,A.02.01'"
      ]
     },
     "execution_count": 80,
     "metadata": {},
     "output_type": "execute_result"
    }
   ],
   "source": [
    "instr.query(\"*OPT?\",withTimeout=1)"
   ]
  },
  {
   "cell_type": "code",
   "execution_count": 81,
   "metadata": {},
   "outputs": [],
   "source": [
    "instr.write('*IDN?')"
   ]
  },
  {
   "cell_type": "code",
   "execution_count": 82,
   "metadata": {},
   "outputs": [
    {
     "data": {
      "text/plain": [
       "<rvisa.resources.gpib.GPIBResource at 0x7f8de3d1cd60>"
      ]
     },
     "execution_count": 82,
     "metadata": {},
     "output_type": "execute_result"
    }
   ],
   "source": [
    "instr.mbSession"
   ]
  },
  {
   "cell_type": "code",
   "execution_count": 83,
   "metadata": {},
   "outputs": [
    {
     "data": {
      "text/plain": [
       "'https://1000000058948db1-api.nwtech.win/'"
      ]
     },
     "execution_count": 83,
     "metadata": {},
     "output_type": "execute_result"
    }
   ],
   "source": [
    "instr.url"
   ]
  },
  {
   "cell_type": "markdown",
   "metadata": {},
   "source": [
    "# RVISA Instrument Driver and RemoteSession classes test\n",
    "Testing imports and functional outputs"
   ]
  },
  {
   "cell_type": "code",
   "execution_count": 84,
   "metadata": {},
   "outputs": [],
   "source": [
    "from lightlab.equipment.visa_bases.rvisa_driver import RVISAInstrumentDriver, RemoteSession"
   ]
  },
  {
   "cell_type": "code",
   "execution_count": 85,
   "metadata": {},
   "outputs": [],
   "source": [
    "session = RemoteSession(address=\"GPIB0::7::INSTR\", tempSess=False, url=\"https://1000000058948db1-api.nwtech.win/\")"
   ]
  },
  {
   "cell_type": "code",
   "execution_count": 86,
   "metadata": {},
   "outputs": [
    {
     "data": {
      "text/plain": [
       "['LLO',\n",
       " 'LOC',\n",
       " '__class__',\n",
       " '__delattr__',\n",
       " '__dict__',\n",
       " '__dir__',\n",
       " '__doc__',\n",
       " '__eq__',\n",
       " '__format__',\n",
       " '__ge__',\n",
       " '__getattr__',\n",
       " '__getattribute__',\n",
       " '__gt__',\n",
       " '__hash__',\n",
       " '__init__',\n",
       " '__init_subclass__',\n",
       " '__le__',\n",
       " '__lt__',\n",
       " '__module__',\n",
       " '__ne__',\n",
       " '__new__',\n",
       " '__reduce__',\n",
       " '__reduce_ex__',\n",
       " '__repr__',\n",
       " '__setattr__',\n",
       " '__sizeof__',\n",
       " '__str__',\n",
       " '__subclasshook__',\n",
       " '__weakref__',\n",
       " '_session_object',\n",
       " 'address',\n",
       " 'clear',\n",
       " 'close',\n",
       " 'instrID',\n",
       " 'open',\n",
       " 'query',\n",
       " 'query_ascii_values',\n",
       " 'query_raw_binary',\n",
       " 'reinstantiate_session',\n",
       " 'spoll',\n",
       " 'timeout',\n",
       " 'wait',\n",
       " 'write']"
      ]
     },
     "execution_count": 86,
     "metadata": {},
     "output_type": "execute_result"
    }
   ],
   "source": [
    "dir(session)"
   ]
  },
  {
   "cell_type": "code",
   "execution_count": 87,
   "metadata": {},
   "outputs": [
    {
     "data": {
      "text/plain": [
       "'AGILENT TECHNOLOGIES,54622D,MY40005835,A.02.01'"
      ]
     },
     "execution_count": 87,
     "metadata": {},
     "output_type": "execute_result"
    }
   ],
   "source": [
    "session.query('*IDN?')"
   ]
  },
  {
   "cell_type": "code",
   "execution_count": 88,
   "metadata": {},
   "outputs": [
    {
     "name": "stdout",
     "output_type": "stream",
     "text": [
      "RESOURCE SUCCESSFULLY CLOSED\n"
     ]
    }
   ],
   "source": [
    "session.close()"
   ]
  },
  {
   "cell_type": "code",
   "execution_count": 89,
   "metadata": {},
   "outputs": [],
   "source": [
    "driver = RVISAInstrumentDriver(address=\"GPIB0::7::INSTR\", url=\"https://1000000058948db1-api.nwtech.win/\", tempSess=False)"
   ]
  },
  {
   "cell_type": "code",
   "execution_count": 90,
   "metadata": {},
   "outputs": [
    {
     "data": {
      "text/plain": [
       "['LLO',\n",
       " 'LOC',\n",
       " '_RVISAInstrumentDriver__started',\n",
       " '__class__',\n",
       " '__delattr__',\n",
       " '__dict__',\n",
       " '__dir__',\n",
       " '__doc__',\n",
       " '__eq__',\n",
       " '__format__',\n",
       " '__ge__',\n",
       " '__getattr__',\n",
       " '__getattribute__',\n",
       " '__gt__',\n",
       " '__hash__',\n",
       " '__init__',\n",
       " '__init_subclass__',\n",
       " '__le__',\n",
       " '__lt__',\n",
       " '__module__',\n",
       " '__ne__',\n",
       " '__new__',\n",
       " '__reduce__',\n",
       " '__reduce_ex__',\n",
       " '__repr__',\n",
       " '__setattr__',\n",
       " '__sizeof__',\n",
       " '__str__',\n",
       " '__subclasshook__',\n",
       " '__weakref__',\n",
       " '_session_object',\n",
       " 'address',\n",
       " 'clear',\n",
       " 'close',\n",
       " 'instrID',\n",
       " 'instrument_category',\n",
       " 'name',\n",
       " 'open',\n",
       " 'query',\n",
       " 'query_ascii_values',\n",
       " 'query_raw_binary',\n",
       " 'reinstantiate_session',\n",
       " 'spoll',\n",
       " 'startup',\n",
       " 'timeout',\n",
       " 'url',\n",
       " 'wait',\n",
       " 'write']"
      ]
     },
     "execution_count": 90,
     "metadata": {},
     "output_type": "execute_result"
    }
   ],
   "source": [
    "dir(driver)"
   ]
  },
  {
   "cell_type": "code",
   "execution_count": 91,
   "metadata": {},
   "outputs": [
    {
     "data": {
      "text/plain": [
       "[0.166]"
      ]
     },
     "execution_count": 91,
     "metadata": {},
     "output_type": "execute_result"
    }
   ],
   "source": [
    "driver.query_ascii_values(\"measure:vaverage? channel1\")"
   ]
  },
  {
   "cell_type": "code",
   "execution_count": 92,
   "metadata": {},
   "outputs": [
    {
     "data": {
      "text/plain": [
       "'https://1000000058948db1-api.nwtech.win/'"
      ]
     },
     "execution_count": 92,
     "metadata": {},
     "output_type": "execute_result"
    }
   ],
   "source": [
    "driver.url"
   ]
  },
  {
   "cell_type": "code",
   "execution_count": 93,
   "metadata": {},
   "outputs": [
    {
     "data": {
      "text/plain": [
       "'AGILENT TECHNOLOGIES,54622D,MY40005835,A.02.01'"
      ]
     },
     "execution_count": 93,
     "metadata": {},
     "output_type": "execute_result"
    }
   ],
   "source": [
    "driver.instrID()"
   ]
  },
  {
   "cell_type": "code",
   "execution_count": 94,
   "metadata": {},
   "outputs": [
    {
     "name": "stdout",
     "output_type": "stream",
     "text": [
      "RESOURCE SUCCESSFULLY CLOSED\n"
     ]
    }
   ],
   "source": [
    "driver.close()"
   ]
  },
  {
   "cell_type": "code",
   "execution_count": 95,
   "metadata": {},
   "outputs": [],
   "source": [
    "import lightlab.equipment.visa_bases as pack"
   ]
  },
  {
   "cell_type": "code",
   "execution_count": 96,
   "metadata": {},
   "outputs": [
    {
     "data": {
      "text/plain": [
       "['DefaultDriver',\n",
       " 'IncompleteClass',\n",
       " 'RVISAInstrumentDriver',\n",
       " 'RVISAObject',\n",
       " 'VISAInstrumentDriver',\n",
       " 'VISAObject',\n",
       " '__builtins__',\n",
       " '__cached__',\n",
       " '__doc__',\n",
       " '__file__',\n",
       " '__loader__',\n",
       " '__name__',\n",
       " '__package__',\n",
       " '__path__',\n",
       " '__spec__',\n",
       " 'driver_base',\n",
       " 'prologix_gpib',\n",
       " 'rvisa_driver',\n",
       " 'rvisa_object',\n",
       " 'visa_driver',\n",
       " 'visa_object']"
      ]
     },
     "execution_count": 96,
     "metadata": {},
     "output_type": "execute_result"
    }
   ],
   "source": [
    "dir(pack)"
   ]
  },
  {
   "cell_type": "code",
   "execution_count": 97,
   "metadata": {},
   "outputs": [],
   "source": [
    "b = pack.RVISAInstrumentDriver(address=\"GPIB0::7::INSTR\", url=\"https://1000000058948db1-api.nwtech.win/\", tempSess=False)"
   ]
  },
  {
   "cell_type": "code",
   "execution_count": 98,
   "metadata": {},
   "outputs": [
    {
     "data": {
      "text/plain": [
       "[0.1661]"
      ]
     },
     "execution_count": 98,
     "metadata": {},
     "output_type": "execute_result"
    }
   ],
   "source": [
    "b.query_ascii_values(\"measure:vaverage? channel1\")"
   ]
  },
  {
   "cell_type": "code",
   "execution_count": 99,
   "metadata": {},
   "outputs": [
    {
     "name": "stdout",
     "output_type": "stream",
     "text": [
      "RESOURCE SUCCESSFULLY CLOSED\n"
     ]
    }
   ],
   "source": [
    "b.close()"
   ]
  },
  {
   "cell_type": "markdown",
   "metadata": {},
   "source": [
    "# Test with Tektronix_DPO4034_Oscope Class"
   ]
  },
  {
   "cell_type": "code",
   "execution_count": 100,
   "metadata": {},
   "outputs": [],
   "source": [
    "import lightlab.equipment.lab_instruments as scopes"
   ]
  },
  {
   "cell_type": "code",
   "execution_count": 101,
   "metadata": {},
   "outputs": [
    {
     "data": {
      "text/plain": [
       "['Advantest_Q8221_PM',\n",
       " 'Agilent_33220_FG',\n",
       " 'Agilent_83712B_clock',\n",
       " 'Agilent_N5183A_VG',\n",
       " 'Agilent_N5222A_NA',\n",
       " 'Anritsu_MP1763B_PPG',\n",
       " 'Apex_AP2440A_OSA',\n",
       " 'Arduino_Instrument',\n",
       " 'BuggyHardware',\n",
       " 'HP_8116A_FG',\n",
       " 'HP_8152A_PM',\n",
       " 'HP_8156A_VA',\n",
       " 'HP_8157A_VA',\n",
       " 'ILX_7900B_LS',\n",
       " 'Keithley_2400_SM',\n",
       " 'Keithley_2606B_SMU',\n",
       " 'N77',\n",
       " 'NI_PCI_6723',\n",
       " 'RVISAInstrumentDriver',\n",
       " 'RandS_SMBV100A_VG',\n",
       " 'Remote_Tektronix_DPO4034_Oscope',\n",
       " 'Tektronix_CSA8000_CAS',\n",
       " 'Tektronix_DPO4032_Oscope',\n",
       " 'Tektronix_DPO4034_Oscope',\n",
       " 'Tektronix_DSA8300_Oscope',\n",
       " 'Tektronix_PPG3202',\n",
       " 'Tektronix_RSA6120B_RFSA',\n",
       " 'Tektronix_TDS6154C_Oscope',\n",
       " 'VISAInstrumentDriver',\n",
       " '_',\n",
       " '__builtins__',\n",
       " '__cached__',\n",
       " '__doc__',\n",
       " '__file__',\n",
       " '__loader__',\n",
       " '__name__',\n",
       " '__package__',\n",
       " '__path__',\n",
       " '__spec__',\n",
       " '_temp',\n",
       " 'importlib',\n",
       " 'k',\n",
       " 'modname',\n",
       " 'mro',\n",
       " 'pkgutil',\n",
       " 'v']"
      ]
     },
     "execution_count": 101,
     "metadata": {},
     "output_type": "execute_result"
    }
   ],
   "source": [
    "dir(scopes)"
   ]
  },
  {
   "cell_type": "code",
   "execution_count": 102,
   "metadata": {},
   "outputs": [],
   "source": [
    "from lightlab.equipment.lab_instruments import Remote_Tektronix_DPO4034_Oscope, Tektronix_DPO4034_Oscope"
   ]
  },
  {
   "cell_type": "code",
   "execution_count": 103,
   "metadata": {},
   "outputs": [],
   "source": [
    "link = 'https://1000000058948db1-api.nwtech.win/'\n",
    "remote = Remote_Tektronix_DPO4034_Oscope(address=\"GPIB::7::INSTR\", url=link)"
   ]
  },
  {
   "cell_type": "code",
   "execution_count": 104,
   "metadata": {},
   "outputs": [
    {
     "data": {
      "text/plain": [
       "['_Instrument__driver_object',\n",
       " '__class__',\n",
       " '__delattr__',\n",
       " '__dict__',\n",
       " '__dir__',\n",
       " '__doc__',\n",
       " '__eq__',\n",
       " '__format__',\n",
       " '__ge__',\n",
       " '__getattr__',\n",
       " '__getattribute__',\n",
       " '__getstate__',\n",
       " '__gt__',\n",
       " '__hash__',\n",
       " '__init__',\n",
       " '__init_subclass__',\n",
       " '__le__',\n",
       " '__lt__',\n",
       " '__module__',\n",
       " '__ne__',\n",
       " '__new__',\n",
       " '__reduce__',\n",
       " '__reduce_ex__',\n",
       " '__repr__',\n",
       " '__setattr__',\n",
       " '__setstate__',\n",
       " '__sizeof__',\n",
       " '__str__',\n",
       " '__subclasshook__',\n",
       " '__weakref__',\n",
       " '_bench',\n",
       " '_driver_class',\n",
       " '_host',\n",
       " '_id_string',\n",
       " '_name',\n",
       " '_toJSON',\n",
       " 'acquire',\n",
       " 'address',\n",
       " 'bench',\n",
       " 'connectHost',\n",
       " 'context',\n",
       " 'display',\n",
       " 'driver',\n",
       " 'driver_class',\n",
       " 'driver_kwargs',\n",
       " 'driver_object',\n",
       " 'essentialMethods',\n",
       " 'essentialProperties',\n",
       " 'hardware_cooldown',\n",
       " 'hardware_warmup',\n",
       " 'host',\n",
       " 'id_string',\n",
       " 'implementedOptionals',\n",
       " 'isLive',\n",
       " 'name',\n",
       " 'optionalAttributes',\n",
       " 'placeBench',\n",
       " 'ports',\n",
       " 'run',\n",
       " 'startup',\n",
       " 'warmedUp',\n",
       " 'wfmDb']"
      ]
     },
     "execution_count": 104,
     "metadata": {},
     "output_type": "execute_result"
    }
   ],
   "source": [
    "dir(remote)"
   ]
  },
  {
   "cell_type": "code",
   "execution_count": 105,
   "metadata": {},
   "outputs": [
    {
     "name": "stdout",
     "output_type": "stream",
     "text": [
      "500 RESPONSE:  {'read': 'ERROR: COULD NOT QUERY GPIB::7::INSTR. EXCEPTION: VI_ERROR_TMO (-1073807339): Timeout expired before operation completed.'}\n",
      "-113,\"Undefined header\"\n"
     ]
    }
   ],
   "source": [
    "try:\n",
    "    remote.acquire()\n",
    "except:\n",
    "    print(remote.driver.query('SYST:ERR?'))"
   ]
  },
  {
   "cell_type": "code",
   "execution_count": 70,
   "metadata": {},
   "outputs": [
    {
     "name": "stdout",
     "output_type": "stream",
     "text": [
      "500 RESPONSE:  {'read': 'ERROR: COULD NOT QUERY GPIB::7::INSTR. EXCEPTION: VI_ERROR_NLISTENERS (-1073807265): No listeners condition is detected (both NRFD and NDAC are deasserted).'}\n"
     ]
    },
    {
     "ename": "AttributeError",
     "evalue": "'NoneType' object has no attribute 'rstrip'",
     "output_type": "error",
     "traceback": [
      "\u001b[0;31m---------------------------------------------------------------------------\u001b[0m",
      "\u001b[0;31mAttributeError\u001b[0m                            Traceback (most recent call last)",
      "\u001b[0;32m<ipython-input-70-a91937ee5548>\u001b[0m in \u001b[0;36m<module>\u001b[0;34m\u001b[0m\n\u001b[0;32m----> 1\u001b[0;31m \u001b[0mremote\u001b[0m\u001b[0;34m.\u001b[0m\u001b[0mdriver\u001b[0m\u001b[0;34m.\u001b[0m\u001b[0mquery\u001b[0m\u001b[0;34m(\u001b[0m\u001b[0;34m'*IDN?'\u001b[0m\u001b[0;34m)\u001b[0m\u001b[0;34m\u001b[0m\u001b[0;34m\u001b[0m\u001b[0m\n\u001b[0m",
      "\u001b[0;32m~/work/rvisa_lightlab/lightlab/equipment/visa_bases/rvisa_object.py\u001b[0m in \u001b[0;36mquery\u001b[0;34m(self, queryStr, withTimeout)\u001b[0m\n\u001b[1;32m     75\u001b[0m                 \u001b[0;31m# self.close()\u001b[0m\u001b[0;34m\u001b[0m\u001b[0;34m\u001b[0m\u001b[0;34m\u001b[0m\u001b[0m\n\u001b[1;32m     76\u001b[0m                 \u001b[0;32mraise\u001b[0m\u001b[0;34m\u001b[0m\u001b[0;34m\u001b[0m\u001b[0m\n\u001b[0;32m---> 77\u001b[0;31m             \u001b[0mretStr\u001b[0m \u001b[0;34m=\u001b[0m \u001b[0mretStr\u001b[0m\u001b[0;34m.\u001b[0m\u001b[0mrstrip\u001b[0m\u001b[0;34m(\u001b[0m\u001b[0;34m)\u001b[0m\u001b[0;34m\u001b[0m\u001b[0;34m\u001b[0m\u001b[0m\n\u001b[0m\u001b[1;32m     78\u001b[0m             \u001b[0mlogger\u001b[0m\u001b[0;34m.\u001b[0m\u001b[0mdebug\u001b[0m\u001b[0;34m(\u001b[0m\u001b[0;34m'Query Read - %s'\u001b[0m\u001b[0;34m,\u001b[0m \u001b[0mretStr\u001b[0m\u001b[0;34m)\u001b[0m\u001b[0;34m\u001b[0m\u001b[0;34m\u001b[0m\u001b[0m\n\u001b[1;32m     79\u001b[0m         \u001b[0;32mfinally\u001b[0m\u001b[0;34m:\u001b[0m\u001b[0;34m\u001b[0m\u001b[0;34m\u001b[0m\u001b[0m\n",
      "\u001b[0;31mAttributeError\u001b[0m: 'NoneType' object has no attribute 'rstrip'"
     ]
    }
   ],
   "source": [
    "remote.driver.query('*IDN?')"
   ]
  }
 ],
 "metadata": {
  "kernelspec": {
   "display_name": "Python 3",
   "language": "python",
   "name": "python3"
  },
  "language_info": {
   "codemirror_mode": {
    "name": "ipython",
    "version": 3
   },
   "file_extension": ".py",
   "mimetype": "text/x-python",
   "name": "python",
   "nbconvert_exporter": "python",
   "pygments_lexer": "ipython3",
   "version": "3.8.4"
  }
 },
 "nbformat": 4,
 "nbformat_minor": 4
}
