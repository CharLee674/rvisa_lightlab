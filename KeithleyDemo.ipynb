{
 "cells": [
  {
   "cell_type": "markdown",
   "metadata": {},
   "source": [
    "# Lightlab inside LabSpire Demo\n",
    "This demo is meant to showcase two things:\n",
    "- Running existing `lightlab.equipment.lab_instruments` drivers inside our LabSpire platform\n",
    "- Running `lightlab.util` sweeps inside our Jupyter environment\n",
    "\n",
    "## Basic Diagram of lab set-up\n",
    "Here is a basic diagram of the remote set-up that we are currently working with.\n",
    "\n",
    "<img src=\"./demo_pic.jpg\" width=\"400\">\n",
    "\n",
    "In the picture above, the Voltage Source refers to the Keithley 2606B SMU that we are using, and we will be changing the voltage and observing the corresponding current changes.\n",
    "\n",
    "## Remote Connection Set-up\n",
    "For reference, this is how we will be communicating with the set-up hosted in the lab.\n",
    "\n",
    "<img src=\"./remote.png\" width=\"800\">"
   ]
  },
  {
   "cell_type": "markdown",
   "metadata": {},
   "source": [
    "This section below contains some \"Jupyter features\" that are built-in. This extension in particular auto reloads any imported Python packages when changes are made."
   ]
  },
  {
   "cell_type": "code",
   "execution_count": 32,
   "metadata": {},
   "outputs": [
    {
     "name": "stdout",
     "output_type": "stream",
     "text": [
      "The autoreload extension is already loaded. To reload it, use:\n",
      "  %reload_ext autoreload\n"
     ]
    }
   ],
   "source": [
    "%load_ext autoreload\n",
    "%autoreload 2"
   ]
  },
  {
   "cell_type": "markdown",
   "metadata": {},
   "source": [
    "## Lightlab Equipment Drivers in LabSpire\n",
    "\n",
    "In this portion of the demo, we will perform some basic operations with the Keithley SMU. This is done using a modified version of a lightlab driver for the Keithley 2606B SMU. This part of the demo is meant to show how a \"local\" driver can now be run remotely after specific changes are made."
   ]
  },
  {
   "cell_type": "markdown",
   "metadata": {},
   "source": [
    "To start out, we connect to the resource, then attempt to ask for its ID"
   ]
  },
  {
   "cell_type": "code",
   "execution_count": 34,
   "metadata": {},
   "outputs": [],
   "source": [
    "from lightlab.equipment.lab_instruments import Remote_Keithley_2606B_SMU as Ke\n",
    "\n",
    "instr = Ke(address='GPIB0::29::INSTR',url=\"https://1000000031c956ca-api.nwtech.win/\", tsp_node=1, channel=\"A\", tempSess=False)"
   ]
  },
  {
   "cell_type": "code",
   "execution_count": 38,
   "metadata": {},
   "outputs": [],
   "source": [
    "instr.id_string"
   ]
  },
  {
   "cell_type": "markdown",
   "metadata": {},
   "source": [
    "There are some essential methods as detailed by `lightlab`, so we will go through most of these next."
   ]
  },
  {
   "cell_type": "code",
   "execution_count": 39,
   "metadata": {},
   "outputs": [
    {
     "data": {
      "text/plain": [
       "['startup',\n",
       " 'setCurrent',\n",
       " 'getCurrent',\n",
       " 'measVoltage',\n",
       " 'setProtectionVoltage',\n",
       " 'protectionVoltage',\n",
       " 'setProtectionCurrent',\n",
       " 'protectionCurrent',\n",
       " 'enable',\n",
       " 'setCurrentMode',\n",
       " 'setVoltageMode',\n",
       " 'setVoltage',\n",
       " 'getVoltage',\n",
       " 'measCurrent']"
      ]
     },
     "execution_count": 39,
     "metadata": {},
     "output_type": "execute_result"
    }
   ],
   "source": [
    "instr.essentialMethods"
   ]
  },
  {
   "cell_type": "markdown",
   "metadata": {},
   "source": [
    "We'll start with setting the voltage, then checking that the voltage has been set correctly."
   ]
  },
  {
   "cell_type": "code",
   "execution_count": 40,
   "metadata": {},
   "outputs": [
    {
     "name": "stderr",
     "output_type": "stream",
     "text": [
      "2021-03-11 00:40:02,718 - ERROR - lightlab.visa:\n",
      "\tProblem querying to GPIB0::29::INSTR\n"
     ]
    },
    {
     "name": "stdout",
     "output_type": "stream",
     "text": [
      "OPEN_RESOURCE FAILED: MUST CONNECT BEFORE OPEN\n"
     ]
    },
    {
     "ename": "AttributeError",
     "evalue": "'bool' object has no attribute 'query'",
     "output_type": "error",
     "traceback": [
      "\u001b[0;31m---------------------------------------------------------------------------\u001b[0m",
      "\u001b[0;31mAttributeError\u001b[0m                            Traceback (most recent call last)",
      "\u001b[0;32m<ipython-input-40-1a5ce8b5d74c>\u001b[0m in \u001b[0;36m<module>\u001b[0;34m\u001b[0m\n\u001b[1;32m      1\u001b[0m \u001b[0;31m# Test Voltage\u001b[0m\u001b[0;34m\u001b[0m\u001b[0;34m\u001b[0m\u001b[0;34m\u001b[0m\u001b[0m\n\u001b[0;32m----> 2\u001b[0;31m \u001b[0mprint\u001b[0m\u001b[0;34m(\u001b[0m\u001b[0;34mf\"Voltage setting: {instr.getVoltage()} V\"\u001b[0m\u001b[0;34m)\u001b[0m\u001b[0;34m\u001b[0m\u001b[0;34m\u001b[0m\u001b[0m\n\u001b[0m\u001b[1;32m      3\u001b[0m \u001b[0;34m\u001b[0m\u001b[0m\n\u001b[1;32m      4\u001b[0m \u001b[0mprint\u001b[0m\u001b[0;34m(\u001b[0m\u001b[0;34m\"Setting to 1 V\"\u001b[0m\u001b[0;34m)\u001b[0m\u001b[0;34m\u001b[0m\u001b[0;34m\u001b[0m\u001b[0m\n\u001b[1;32m      5\u001b[0m \u001b[0minstr\u001b[0m\u001b[0;34m.\u001b[0m\u001b[0msetVoltage\u001b[0m\u001b[0;34m(\u001b[0m\u001b[0;36m1\u001b[0m\u001b[0;34m)\u001b[0m\u001b[0;34m\u001b[0m\u001b[0;34m\u001b[0m\u001b[0m\n",
      "\u001b[0;32m~/work/shared/demos/rvisa_lightlab/lightlab/equipment/lab_instruments/Keithley_2606B_SMU.py\u001b[0m in \u001b[0;36mgetVoltage\u001b[0;34m(self)\u001b[0m\n\u001b[1;32m    592\u001b[0m \u001b[0;34m\u001b[0m\u001b[0m\n\u001b[1;32m    593\u001b[0m     \u001b[0;32mdef\u001b[0m \u001b[0mgetVoltage\u001b[0m\u001b[0;34m(\u001b[0m\u001b[0mself\u001b[0m\u001b[0;34m)\u001b[0m\u001b[0;34m:\u001b[0m\u001b[0;34m\u001b[0m\u001b[0;34m\u001b[0m\u001b[0m\n\u001b[0;32m--> 594\u001b[0;31m         \u001b[0mvolt\u001b[0m \u001b[0;34m=\u001b[0m \u001b[0mself\u001b[0m\u001b[0;34m.\u001b[0m\u001b[0mquery_print\u001b[0m\u001b[0;34m(\u001b[0m\u001b[0;34m\"{smuX}.source.levelv\"\u001b[0m\u001b[0;34m.\u001b[0m\u001b[0mformat\u001b[0m\u001b[0;34m(\u001b[0m\u001b[0msmuX\u001b[0m\u001b[0;34m=\u001b[0m\u001b[0mself\u001b[0m\u001b[0;34m.\u001b[0m\u001b[0msmu_full_string\u001b[0m\u001b[0;34m)\u001b[0m\u001b[0;34m)\u001b[0m\u001b[0;34m\u001b[0m\u001b[0;34m\u001b[0m\u001b[0m\n\u001b[0m\u001b[1;32m    595\u001b[0m         \u001b[0;32mreturn\u001b[0m \u001b[0mfloat\u001b[0m\u001b[0;34m(\u001b[0m\u001b[0mvolt\u001b[0m\u001b[0;34m)\u001b[0m\u001b[0;34m\u001b[0m\u001b[0;34m\u001b[0m\u001b[0m\n\u001b[1;32m    596\u001b[0m \u001b[0;34m\u001b[0m\u001b[0m\n",
      "\u001b[0;32m~/work/shared/demos/rvisa_lightlab/lightlab/equipment/lab_instruments/Keithley_2606B_SMU.py\u001b[0m in \u001b[0;36mquery_print\u001b[0;34m(self, query_string, expected_talker)\u001b[0m\n\u001b[1;32m    478\u001b[0m         \u001b[0mtime\u001b[0m\u001b[0;34m.\u001b[0m\u001b[0msleep\u001b[0m\u001b[0;34m(\u001b[0m\u001b[0;36m0.01\u001b[0m\u001b[0;34m)\u001b[0m\u001b[0;34m\u001b[0m\u001b[0;34m\u001b[0m\u001b[0m\n\u001b[1;32m    479\u001b[0m         \u001b[0mquery_string\u001b[0m \u001b[0;34m=\u001b[0m \u001b[0;34m\"print(\"\u001b[0m \u001b[0;34m+\u001b[0m \u001b[0mquery_string\u001b[0m \u001b[0;34m+\u001b[0m \u001b[0;34m\")\"\u001b[0m\u001b[0;34m\u001b[0m\u001b[0;34m\u001b[0m\u001b[0m\n\u001b[0;32m--> 480\u001b[0;31m         \u001b[0;32mreturn\u001b[0m \u001b[0mself\u001b[0m\u001b[0;34m.\u001b[0m\u001b[0mquery\u001b[0m\u001b[0;34m(\u001b[0m\u001b[0mquery_string\u001b[0m\u001b[0;34m,\u001b[0m \u001b[0mexpected_talker\u001b[0m\u001b[0;34m=\u001b[0m\u001b[0mexpected_talker\u001b[0m\u001b[0;34m)\u001b[0m\u001b[0;34m\u001b[0m\u001b[0;34m\u001b[0m\u001b[0m\n\u001b[0m\u001b[1;32m    481\u001b[0m \u001b[0;34m\u001b[0m\u001b[0m\n\u001b[1;32m    482\u001b[0m     \u001b[0;32mdef\u001b[0m \u001b[0msmu_reset\u001b[0m\u001b[0;34m(\u001b[0m\u001b[0mself\u001b[0m\u001b[0;34m)\u001b[0m\u001b[0;34m:\u001b[0m\u001b[0;34m\u001b[0m\u001b[0;34m\u001b[0m\u001b[0m\n",
      "\u001b[0;32m~/work/shared/demos/rvisa_lightlab/lightlab/equipment/lab_instruments/Keithley_2606B_SMU.py\u001b[0m in \u001b[0;36mquery\u001b[0;34m(self, queryStr, expected_talker)\u001b[0m\n\u001b[1;32m    447\u001b[0m \u001b[0;34m\u001b[0m\u001b[0m\n\u001b[1;32m    448\u001b[0m     \u001b[0;32mdef\u001b[0m \u001b[0mquery\u001b[0m\u001b[0;34m(\u001b[0m\u001b[0mself\u001b[0m\u001b[0;34m,\u001b[0m \u001b[0mqueryStr\u001b[0m\u001b[0;34m,\u001b[0m \u001b[0mexpected_talker\u001b[0m\u001b[0;34m=\u001b[0m\u001b[0;32mNone\u001b[0m\u001b[0;34m)\u001b[0m\u001b[0;34m:\u001b[0m\u001b[0;34m\u001b[0m\u001b[0;34m\u001b[0m\u001b[0m\n\u001b[0;32m--> 449\u001b[0;31m         \u001b[0mret\u001b[0m \u001b[0;34m=\u001b[0m \u001b[0mself\u001b[0m\u001b[0;34m.\u001b[0m\u001b[0m_query\u001b[0m\u001b[0;34m(\u001b[0m\u001b[0mqueryStr\u001b[0m\u001b[0;34m)\u001b[0m\u001b[0;34m\u001b[0m\u001b[0;34m\u001b[0m\u001b[0m\n\u001b[0m\u001b[1;32m    450\u001b[0m         \u001b[0;32mif\u001b[0m \u001b[0mexpected_talker\u001b[0m \u001b[0;32mis\u001b[0m \u001b[0;32mnot\u001b[0m \u001b[0;32mNone\u001b[0m\u001b[0;34m:\u001b[0m\u001b[0;34m\u001b[0m\u001b[0;34m\u001b[0m\u001b[0m\n\u001b[1;32m    451\u001b[0m             \u001b[0;32mif\u001b[0m \u001b[0mret\u001b[0m \u001b[0;34m!=\u001b[0m \u001b[0mexpected_talker\u001b[0m\u001b[0;34m:\u001b[0m\u001b[0;34m\u001b[0m\u001b[0;34m\u001b[0m\u001b[0m\n",
      "\u001b[0;32m~/work/shared/demos/rvisa_lightlab/lightlab/equipment/lab_instruments/Keithley_2606B_SMU.py\u001b[0m in \u001b[0;36m_query\u001b[0;34m(self, queryStr)\u001b[0m\n\u001b[1;32m    444\u001b[0m \u001b[0;34m\u001b[0m\u001b[0m\n\u001b[1;32m    445\u001b[0m     \u001b[0;32mdef\u001b[0m \u001b[0m_query\u001b[0m\u001b[0;34m(\u001b[0m\u001b[0mself\u001b[0m\u001b[0;34m,\u001b[0m \u001b[0mqueryStr\u001b[0m\u001b[0;34m)\u001b[0m\u001b[0;34m:\u001b[0m\u001b[0;34m\u001b[0m\u001b[0;34m\u001b[0m\u001b[0m\n\u001b[0;32m--> 446\u001b[0;31m         \u001b[0;32mreturn\u001b[0m \u001b[0mself\u001b[0m\u001b[0;34m.\u001b[0m\u001b[0m_session_object\u001b[0m\u001b[0;34m.\u001b[0m\u001b[0mquery\u001b[0m\u001b[0;34m(\u001b[0m\u001b[0mqueryStr\u001b[0m\u001b[0;34m)\u001b[0m\u001b[0;34m\u001b[0m\u001b[0;34m\u001b[0m\u001b[0m\n\u001b[0m\u001b[1;32m    447\u001b[0m \u001b[0;34m\u001b[0m\u001b[0m\n\u001b[1;32m    448\u001b[0m     \u001b[0;32mdef\u001b[0m \u001b[0mquery\u001b[0m\u001b[0;34m(\u001b[0m\u001b[0mself\u001b[0m\u001b[0;34m,\u001b[0m \u001b[0mqueryStr\u001b[0m\u001b[0;34m,\u001b[0m \u001b[0mexpected_talker\u001b[0m\u001b[0;34m=\u001b[0m\u001b[0;32mNone\u001b[0m\u001b[0;34m)\u001b[0m\u001b[0;34m:\u001b[0m\u001b[0;34m\u001b[0m\u001b[0;34m\u001b[0m\u001b[0m\n",
      "\u001b[0;32m~/work/shared/demos/rvisa_lightlab/lightlab/equipment/visa_bases/rvisa_object.py\u001b[0m in \u001b[0;36mquery\u001b[0;34m(self, queryStr, withTimeout)\u001b[0m\n\u001b[1;32m     67\u001b[0m             \u001b[0;32mtry\u001b[0m\u001b[0;34m:\u001b[0m\u001b[0;34m\u001b[0m\u001b[0;34m\u001b[0m\u001b[0m\n\u001b[1;32m     68\u001b[0m                 \u001b[0;32mif\u001b[0m \u001b[0mtimeout\u001b[0m \u001b[0;32mis\u001b[0m \u001b[0;32mNone\u001b[0m\u001b[0;34m:\u001b[0m\u001b[0;34m\u001b[0m\u001b[0;34m\u001b[0m\u001b[0m\n\u001b[0;32m---> 69\u001b[0;31m                     \u001b[0mretStr\u001b[0m \u001b[0;34m=\u001b[0m \u001b[0mself\u001b[0m\u001b[0;34m.\u001b[0m\u001b[0mmbSession\u001b[0m\u001b[0;34m.\u001b[0m\u001b[0mquery\u001b[0m\u001b[0;34m(\u001b[0m\u001b[0mqueryStr\u001b[0m\u001b[0;34m)\u001b[0m\u001b[0;34m\u001b[0m\u001b[0;34m\u001b[0m\u001b[0m\n\u001b[0m\u001b[1;32m     70\u001b[0m                 \u001b[0;32melse\u001b[0m\u001b[0;34m:\u001b[0m\u001b[0;34m\u001b[0m\u001b[0;34m\u001b[0m\u001b[0m\n\u001b[1;32m     71\u001b[0m                     \u001b[0;31m# TODO: test this timeout version\u001b[0m\u001b[0;34m\u001b[0m\u001b[0;34m\u001b[0m\u001b[0;34m\u001b[0m\u001b[0m\n",
      "\u001b[0;31mAttributeError\u001b[0m: 'bool' object has no attribute 'query'"
     ]
    }
   ],
   "source": [
    "# Test Voltage\n",
    "print(f\"Voltage setting: {instr.getVoltage()} V\")\n",
    "\n",
    "print(\"Setting to 1 V\")\n",
    "instr.setVoltage(1)\n",
    "\n",
    "print(f\"Voltage setting: {instr.getVoltage()} V\")\n",
    "print()\n",
    "\n",
    "print(\"Setting to 2 V\")\n",
    "instr.setVoltage(2)\n",
    "print(f\"Voltage setting: {instr.getVoltage()} V\")"
   ]
  },
  {
   "cell_type": "markdown",
   "metadata": {},
   "source": [
    "We do the same thing with the current."
   ]
  },
  {
   "cell_type": "code",
   "execution_count": 14,
   "metadata": {},
   "outputs": [
    {
     "name": "stdout",
     "output_type": "stream",
     "text": [
      "RESOURCE SUCCESSFULLY CLOSED\n",
      "1.0\n",
      "RESOURCE SUCCESSFULLY CLOSED\n",
      "RESOURCE SUCCESSFULLY CLOSED\n",
      "RESOURCE SUCCESSFULLY CLOSED\n",
      "1e-09\n",
      "RESOURCE SUCCESSFULLY CLOSED\n",
      "RESOURCE SUCCESSFULLY CLOSED\n",
      "RESOURCE SUCCESSFULLY CLOSED\n",
      "1.0\n"
     ]
    }
   ],
   "source": [
    "# Test Current\n",
    "print(f\"Current setting: {instr.getCurrent()} A\")\n",
    "print(\"Setting to 0 A\")\n",
    "instr.setCurrent(0)\n",
    "print(f\"Current setting: {instr.getCurrent()} A\")\n",
    "\n",
    "print(\"Setting to 0.001 A\")\n",
    "instr.setCurrent(0.001)\n",
    "print(f\"Current setting: {instr.getCurrent()} A\")\n"
   ]
  },
  {
   "cell_type": "code",
   "execution_count": 65,
   "metadata": {},
   "outputs": [
    {
     "name": "stdout",
     "output_type": "stream",
     "text": [
      "RESOURCE SUCCESSFULLY CLOSED\n",
      "5.0\n",
      "RESOURCE SUCCESSFULLY CLOSED\n",
      "2.0\n",
      "RESOURCE SUCCESSFULLY CLOSED\n",
      "RESOURCE SUCCESSFULLY CLOSED\n",
      "RESOURCE SUCCESSFULLY CLOSED\n",
      "RESOURCE SUCCESSFULLY CLOSED\n",
      "2.0\n",
      "RESOURCE SUCCESSFULLY CLOSED\n",
      "1.0\n",
      "RESOURCE SUCCESSFULLY CLOSED\n",
      "RESOURCE SUCCESSFULLY CLOSED\n",
      "RESOURCE SUCCESSFULLY CLOSED\n",
      "RESOURCE SUCCESSFULLY CLOSED\n",
      "5.0\n"
     ]
    }
   ],
   "source": [
    "# Test protection voltage\n",
    "print(f\"Protection voltage: {instr.protectionVoltage}\")\n",
    "\n",
    "print(\"Setting protection voltage to 2 V...\")\n",
    "instr.setProtectionVoltage(2)\n",
    "print(f\"Protection voltage: {instr.protectionVoltage}\")\n",
    "\n",
    "print(\"Setting protection voltage to 4 V...\")\n",
    "instr.setProtectionVoltage(4)\n",
    "print(f\"Protection voltage: {instr.protectionVoltage}\")"
   ]
  },
  {
   "cell_type": "code",
   "execution_count": 65,
   "metadata": {},
   "outputs": [
    {
     "name": "stdout",
     "output_type": "stream",
     "text": [
      "RESOURCE SUCCESSFULLY CLOSED\n",
      "5.0\n",
      "RESOURCE SUCCESSFULLY CLOSED\n",
      "2.0\n",
      "RESOURCE SUCCESSFULLY CLOSED\n",
      "RESOURCE SUCCESSFULLY CLOSED\n",
      "RESOURCE SUCCESSFULLY CLOSED\n",
      "RESOURCE SUCCESSFULLY CLOSED\n",
      "2.0\n",
      "RESOURCE SUCCESSFULLY CLOSED\n",
      "1.0\n",
      "RESOURCE SUCCESSFULLY CLOSED\n",
      "RESOURCE SUCCESSFULLY CLOSED\n",
      "RESOURCE SUCCESSFULLY CLOSED\n",
      "RESOURCE SUCCESSFULLY CLOSED\n",
      "5.0\n"
     ]
    }
   ],
   "source": [
    "# Test protection current\n",
    "print(f\"Protection current: {instr.protectionVoltage}\")\n",
    "\n",
    "print(\"Setting protection voltage to 0.01 A...\")\n",
    "instr.setProtectionVoltage(0.01)\n",
    "print(f\"Protection current: {instr.protectionCurrent}\")"
   ]
  },
  {
   "cell_type": "markdown",
   "metadata": {},
   "source": [
    "Now that we've confirmed it works, let us set up the correct limits"
   ]
  },
  {
   "cell_type": "code",
   "execution_count": null,
   "metadata": {},
   "outputs": [],
   "source": [
    "instr.setProtectionVoltage(4) # set 4 V voltage limit\n",
    "instr.setProtectionCurrent(0.01) # set 10 mA current limit"
   ]
  },
  {
   "cell_type": "markdown",
   "metadata": {},
   "source": [
    "Now I'll quickly demonstrate how you can make single measurements\n",
    "\n",
    "I'll change the voltage, set the output on, then proceed to read the current value"
   ]
  },
  {
   "cell_type": "code",
   "execution_count": 41,
   "metadata": {},
   "outputs": [
    {
     "name": "stderr",
     "output_type": "stream",
     "text": [
      "2021-03-11 00:45:58,144 - ERROR - lightlab.visa:\n",
      "\tProblem querying to GPIB0::29::INSTR\n"
     ]
    },
    {
     "ename": "AttributeError",
     "evalue": "'bool' object has no attribute 'query'",
     "output_type": "error",
     "traceback": [
      "\u001b[0;31m---------------------------------------------------------------------------\u001b[0m",
      "\u001b[0;31mAttributeError\u001b[0m                            Traceback (most recent call last)",
      "\u001b[0;32m<ipython-input-41-da231773ee1c>\u001b[0m in \u001b[0;36m<module>\u001b[0;34m\u001b[0m\n\u001b[0;32m----> 1\u001b[0;31m \u001b[0minstr\u001b[0m\u001b[0;34m.\u001b[0m\u001b[0msetVoltage\u001b[0m\u001b[0;34m(\u001b[0m\u001b[0;36m0\u001b[0m\u001b[0;34m)\u001b[0m\u001b[0;34m\u001b[0m\u001b[0;34m\u001b[0m\u001b[0m\n\u001b[0m",
      "\u001b[0;32m~/work/shared/demos/rvisa_lightlab/lightlab/equipment/lab_instruments/Keithley_2606B_SMU.py\u001b[0m in \u001b[0;36msetVoltage\u001b[0;34m(self, voltVolts)\u001b[0m\n\u001b[1;32m    579\u001b[0m     \u001b[0;32mdef\u001b[0m \u001b[0msetVoltage\u001b[0m\u001b[0;34m(\u001b[0m\u001b[0mself\u001b[0m\u001b[0;34m,\u001b[0m \u001b[0mvoltVolts\u001b[0m\u001b[0;34m)\u001b[0m\u001b[0;34m:\u001b[0m\u001b[0;34m\u001b[0m\u001b[0;34m\u001b[0m\u001b[0m\n\u001b[1;32m    580\u001b[0m         \u001b[0mvoltTemp\u001b[0m \u001b[0;34m=\u001b[0m \u001b[0mself\u001b[0m\u001b[0;34m.\u001b[0m\u001b[0m_latestVoltageVal\u001b[0m\u001b[0;34m\u001b[0m\u001b[0;34m\u001b[0m\u001b[0m\n\u001b[0;32m--> 581\u001b[0;31m         \u001b[0;32mif\u001b[0m \u001b[0;32mnot\u001b[0m \u001b[0mself\u001b[0m\u001b[0;34m.\u001b[0m\u001b[0menable\u001b[0m\u001b[0;34m(\u001b[0m\u001b[0;34m)\u001b[0m \u001b[0;32mor\u001b[0m \u001b[0mself\u001b[0m\u001b[0;34m.\u001b[0m\u001b[0mvoltStep\u001b[0m \u001b[0;32mis\u001b[0m \u001b[0;32mNone\u001b[0m\u001b[0;34m:\u001b[0m\u001b[0;34m\u001b[0m\u001b[0;34m\u001b[0m\u001b[0m\n\u001b[0m\u001b[1;32m    582\u001b[0m             \u001b[0mself\u001b[0m\u001b[0;34m.\u001b[0m\u001b[0m_configVoltage\u001b[0m\u001b[0;34m(\u001b[0m\u001b[0mvoltVolts\u001b[0m\u001b[0;34m)\u001b[0m\u001b[0;34m\u001b[0m\u001b[0;34m\u001b[0m\u001b[0m\n\u001b[1;32m    583\u001b[0m         \u001b[0;32melse\u001b[0m\u001b[0;34m:\u001b[0m\u001b[0;34m\u001b[0m\u001b[0;34m\u001b[0m\u001b[0m\n",
      "\u001b[0;32m~/work/shared/demos/rvisa_lightlab/lightlab/equipment/lab_instruments/Keithley_2606B_SMU.py\u001b[0m in \u001b[0;36menable\u001b[0;34m(self, newState)\u001b[0m\n\u001b[1;32m    650\u001b[0m                     \u001b[0;32mbreak\u001b[0m\u001b[0;34m\u001b[0m\u001b[0;34m\u001b[0m\u001b[0m\n\u001b[1;32m    651\u001b[0m         \u001b[0;32melse\u001b[0m\u001b[0;34m:\u001b[0m\u001b[0;34m\u001b[0m\u001b[0;34m\u001b[0m\u001b[0m\n\u001b[0;32m--> 652\u001b[0;31m             \u001b[0mretVal\u001b[0m \u001b[0;34m=\u001b[0m \u001b[0mself\u001b[0m\u001b[0;34m.\u001b[0m\u001b[0mquery_print\u001b[0m\u001b[0;34m(\u001b[0m\u001b[0;34m\"{smuX}.source.output\"\u001b[0m\u001b[0;34m.\u001b[0m\u001b[0mformat\u001b[0m\u001b[0;34m(\u001b[0m\u001b[0msmuX\u001b[0m\u001b[0;34m=\u001b[0m\u001b[0mself\u001b[0m\u001b[0;34m.\u001b[0m\u001b[0msmu_full_string\u001b[0m\u001b[0;34m)\u001b[0m\u001b[0;34m)\u001b[0m\u001b[0;34m\u001b[0m\u001b[0;34m\u001b[0m\u001b[0m\n\u001b[0m\u001b[1;32m    653\u001b[0m             \u001b[0mis_on\u001b[0m \u001b[0;34m=\u001b[0m \u001b[0mfloat\u001b[0m\u001b[0;34m(\u001b[0m\u001b[0mretVal\u001b[0m\u001b[0;34m)\u001b[0m \u001b[0;34m==\u001b[0m \u001b[0;36m1\u001b[0m\u001b[0;34m\u001b[0m\u001b[0;34m\u001b[0m\u001b[0m\n\u001b[1;32m    654\u001b[0m         \u001b[0;32mreturn\u001b[0m \u001b[0mis_on\u001b[0m\u001b[0;34m\u001b[0m\u001b[0;34m\u001b[0m\u001b[0m\n",
      "\u001b[0;32m~/work/shared/demos/rvisa_lightlab/lightlab/equipment/lab_instruments/Keithley_2606B_SMU.py\u001b[0m in \u001b[0;36mquery_print\u001b[0;34m(self, query_string, expected_talker)\u001b[0m\n\u001b[1;32m    478\u001b[0m         \u001b[0mtime\u001b[0m\u001b[0;34m.\u001b[0m\u001b[0msleep\u001b[0m\u001b[0;34m(\u001b[0m\u001b[0;36m0.01\u001b[0m\u001b[0;34m)\u001b[0m\u001b[0;34m\u001b[0m\u001b[0;34m\u001b[0m\u001b[0m\n\u001b[1;32m    479\u001b[0m         \u001b[0mquery_string\u001b[0m \u001b[0;34m=\u001b[0m \u001b[0;34m\"print(\"\u001b[0m \u001b[0;34m+\u001b[0m \u001b[0mquery_string\u001b[0m \u001b[0;34m+\u001b[0m \u001b[0;34m\")\"\u001b[0m\u001b[0;34m\u001b[0m\u001b[0;34m\u001b[0m\u001b[0m\n\u001b[0;32m--> 480\u001b[0;31m         \u001b[0;32mreturn\u001b[0m \u001b[0mself\u001b[0m\u001b[0;34m.\u001b[0m\u001b[0mquery\u001b[0m\u001b[0;34m(\u001b[0m\u001b[0mquery_string\u001b[0m\u001b[0;34m,\u001b[0m \u001b[0mexpected_talker\u001b[0m\u001b[0;34m=\u001b[0m\u001b[0mexpected_talker\u001b[0m\u001b[0;34m)\u001b[0m\u001b[0;34m\u001b[0m\u001b[0;34m\u001b[0m\u001b[0m\n\u001b[0m\u001b[1;32m    481\u001b[0m \u001b[0;34m\u001b[0m\u001b[0m\n\u001b[1;32m    482\u001b[0m     \u001b[0;32mdef\u001b[0m \u001b[0msmu_reset\u001b[0m\u001b[0;34m(\u001b[0m\u001b[0mself\u001b[0m\u001b[0;34m)\u001b[0m\u001b[0;34m:\u001b[0m\u001b[0;34m\u001b[0m\u001b[0;34m\u001b[0m\u001b[0m\n",
      "\u001b[0;32m~/work/shared/demos/rvisa_lightlab/lightlab/equipment/lab_instruments/Keithley_2606B_SMU.py\u001b[0m in \u001b[0;36mquery\u001b[0;34m(self, queryStr, expected_talker)\u001b[0m\n\u001b[1;32m    447\u001b[0m \u001b[0;34m\u001b[0m\u001b[0m\n\u001b[1;32m    448\u001b[0m     \u001b[0;32mdef\u001b[0m \u001b[0mquery\u001b[0m\u001b[0;34m(\u001b[0m\u001b[0mself\u001b[0m\u001b[0;34m,\u001b[0m \u001b[0mqueryStr\u001b[0m\u001b[0;34m,\u001b[0m \u001b[0mexpected_talker\u001b[0m\u001b[0;34m=\u001b[0m\u001b[0;32mNone\u001b[0m\u001b[0;34m)\u001b[0m\u001b[0;34m:\u001b[0m\u001b[0;34m\u001b[0m\u001b[0;34m\u001b[0m\u001b[0m\n\u001b[0;32m--> 449\u001b[0;31m         \u001b[0mret\u001b[0m \u001b[0;34m=\u001b[0m \u001b[0mself\u001b[0m\u001b[0;34m.\u001b[0m\u001b[0m_query\u001b[0m\u001b[0;34m(\u001b[0m\u001b[0mqueryStr\u001b[0m\u001b[0;34m)\u001b[0m\u001b[0;34m\u001b[0m\u001b[0;34m\u001b[0m\u001b[0m\n\u001b[0m\u001b[1;32m    450\u001b[0m         \u001b[0;32mif\u001b[0m \u001b[0mexpected_talker\u001b[0m \u001b[0;32mis\u001b[0m \u001b[0;32mnot\u001b[0m \u001b[0;32mNone\u001b[0m\u001b[0;34m:\u001b[0m\u001b[0;34m\u001b[0m\u001b[0;34m\u001b[0m\u001b[0m\n\u001b[1;32m    451\u001b[0m             \u001b[0;32mif\u001b[0m \u001b[0mret\u001b[0m \u001b[0;34m!=\u001b[0m \u001b[0mexpected_talker\u001b[0m\u001b[0;34m:\u001b[0m\u001b[0;34m\u001b[0m\u001b[0;34m\u001b[0m\u001b[0m\n",
      "\u001b[0;32m~/work/shared/demos/rvisa_lightlab/lightlab/equipment/lab_instruments/Keithley_2606B_SMU.py\u001b[0m in \u001b[0;36m_query\u001b[0;34m(self, queryStr)\u001b[0m\n\u001b[1;32m    444\u001b[0m \u001b[0;34m\u001b[0m\u001b[0m\n\u001b[1;32m    445\u001b[0m     \u001b[0;32mdef\u001b[0m \u001b[0m_query\u001b[0m\u001b[0;34m(\u001b[0m\u001b[0mself\u001b[0m\u001b[0;34m,\u001b[0m \u001b[0mqueryStr\u001b[0m\u001b[0;34m)\u001b[0m\u001b[0;34m:\u001b[0m\u001b[0;34m\u001b[0m\u001b[0;34m\u001b[0m\u001b[0m\n\u001b[0;32m--> 446\u001b[0;31m         \u001b[0;32mreturn\u001b[0m \u001b[0mself\u001b[0m\u001b[0;34m.\u001b[0m\u001b[0m_session_object\u001b[0m\u001b[0;34m.\u001b[0m\u001b[0mquery\u001b[0m\u001b[0;34m(\u001b[0m\u001b[0mqueryStr\u001b[0m\u001b[0;34m)\u001b[0m\u001b[0;34m\u001b[0m\u001b[0;34m\u001b[0m\u001b[0m\n\u001b[0m\u001b[1;32m    447\u001b[0m \u001b[0;34m\u001b[0m\u001b[0m\n\u001b[1;32m    448\u001b[0m     \u001b[0;32mdef\u001b[0m \u001b[0mquery\u001b[0m\u001b[0;34m(\u001b[0m\u001b[0mself\u001b[0m\u001b[0;34m,\u001b[0m \u001b[0mqueryStr\u001b[0m\u001b[0;34m,\u001b[0m \u001b[0mexpected_talker\u001b[0m\u001b[0;34m=\u001b[0m\u001b[0;32mNone\u001b[0m\u001b[0;34m)\u001b[0m\u001b[0;34m:\u001b[0m\u001b[0;34m\u001b[0m\u001b[0;34m\u001b[0m\u001b[0m\n",
      "\u001b[0;32m~/work/shared/demos/rvisa_lightlab/lightlab/equipment/visa_bases/rvisa_object.py\u001b[0m in \u001b[0;36mquery\u001b[0;34m(self, queryStr, withTimeout)\u001b[0m\n\u001b[1;32m     67\u001b[0m             \u001b[0;32mtry\u001b[0m\u001b[0;34m:\u001b[0m\u001b[0;34m\u001b[0m\u001b[0;34m\u001b[0m\u001b[0m\n\u001b[1;32m     68\u001b[0m                 \u001b[0;32mif\u001b[0m \u001b[0mtimeout\u001b[0m \u001b[0;32mis\u001b[0m \u001b[0;32mNone\u001b[0m\u001b[0;34m:\u001b[0m\u001b[0;34m\u001b[0m\u001b[0;34m\u001b[0m\u001b[0m\n\u001b[0;32m---> 69\u001b[0;31m                     \u001b[0mretStr\u001b[0m \u001b[0;34m=\u001b[0m \u001b[0mself\u001b[0m\u001b[0;34m.\u001b[0m\u001b[0mmbSession\u001b[0m\u001b[0;34m.\u001b[0m\u001b[0mquery\u001b[0m\u001b[0;34m(\u001b[0m\u001b[0mqueryStr\u001b[0m\u001b[0;34m)\u001b[0m\u001b[0;34m\u001b[0m\u001b[0;34m\u001b[0m\u001b[0m\n\u001b[0m\u001b[1;32m     70\u001b[0m                 \u001b[0;32melse\u001b[0m\u001b[0;34m:\u001b[0m\u001b[0;34m\u001b[0m\u001b[0;34m\u001b[0m\u001b[0m\n\u001b[1;32m     71\u001b[0m                     \u001b[0;31m# TODO: test this timeout version\u001b[0m\u001b[0;34m\u001b[0m\u001b[0;34m\u001b[0m\u001b[0;34m\u001b[0m\u001b[0m\n",
      "\u001b[0;31mAttributeError\u001b[0m: 'bool' object has no attribute 'query'"
     ]
    }
   ],
   "source": [
    "instr.setVoltage(0)"
   ]
  },
  {
   "cell_type": "code",
   "execution_count": null,
   "metadata": {},
   "outputs": [],
   "source": [
    "instr.enable(newState=True)"
   ]
  },
  {
   "cell_type": "code",
   "execution_count": null,
   "metadata": {},
   "outputs": [],
   "source": [
    "print(f\"Current value: {instr.measCurrent()} A\")"
   ]
  },
  {
   "cell_type": "code",
   "execution_count": null,
   "metadata": {},
   "outputs": [],
   "source": [
    "instr.setVoltage(1)"
   ]
  },
  {
   "cell_type": "code",
   "execution_count": null,
   "metadata": {},
   "outputs": [],
   "source": [
    "print(f\"Current value: {instr.measCurrent()} A\")"
   ]
  },
  {
   "cell_type": "code",
   "execution_count": null,
   "metadata": {},
   "outputs": [],
   "source": [
    "instr.setVoltage(0)"
   ]
  },
  {
   "cell_type": "code",
   "execution_count": null,
   "metadata": {},
   "outputs": [],
   "source": [
    "print(f\"Current value: {instr.measCurrent()} A\")"
   ]
  },
  {
   "cell_type": "code",
   "execution_count": null,
   "metadata": {},
   "outputs": [],
   "source": [
    "instr.enable(newState=False)"
   ]
  },
  {
   "cell_type": "markdown",
   "metadata": {},
   "source": [
    "## Lightlab sweeps\n",
    "Next, we will perform a sweep from 0 V to 4 V using the `lightlab` class `NdSweeper`. We will measure the current as it changes, then plot the result below"
   ]
  },
  {
   "cell_type": "code",
   "execution_count": 31,
   "metadata": {},
   "outputs": [
    {
     "name": "stdout",
     "output_type": "stream",
     "text": [
      "Printing progress in tempfile /home/jovyan/work/shared/demos/rvisa_lightlab/progress-monitor/swp_progwx4y5e18\n",
      "Generic sweep in Voltage\n",
      "Dim-0...\n",
      "1/12...\n",
      "2/12...\n",
      "3/12...\n",
      "4/12...\n",
      "5/12...\n",
      "6/12...\n",
      "7/12...\n",
      "8/12...\n",
      "9/12...\n",
      "10/12...\n",
      "11/12...\n",
      "12/12...\n",
      "Sweep completed!\n"
     ]
    },
    {
     "data": {
      "text/plain": [
       "array([[<AxesSubplot:xlabel='Voltage', ylabel='Current'>]], dtype=object)"
      ]
     },
     "execution_count": 31,
     "metadata": {},
     "output_type": "execute_result"
    },
    {
     "data": {
      "image/png": "[encoded data removed]",
      "text/plain": [
       "<Figure size 720x180 with 1 Axes>"
      ]
     },
     "metadata": {
      "needs_background": "light"
     },
     "output_type": "display_data"
    }
   ],
   "source": [
    "# Testing sweeps\n",
    "from lightlab.util.sweep import NdSweeper\n",
    "import numpy\n",
    "from lightlab.equipment.lab_instruments import Remote_Keithley_2606B_SMU as Ke\n",
    "instr = Ke(address='GPIB0::29::INSTR',url=\"https://1000000031c956ca-api.nwtech.win/\", tsp_node=1, channel=\"A\", tempSess=False)\n",
    "tsweep=NdSweeper()\n",
    "\n",
    "instr.setProtectionVoltage(4) # set 4 V voltage limit\n",
    "instr.setProtectionCurrent(0.01) # set 10 mA current limit\n",
    "domain=numpy.arange(0,6,0.5)\n",
    "instr.enable(newState=True)\n",
    "tsweep.addActuation(\"Voltage\",lambda v: instr.setVoltage(v),domain)\n",
    "tsweep.addMeasurement(\"Current\",lambda: instr.measCurrent())\n",
    "tsweep.gather(3)\n",
    "instr.enable(newState=0)\n",
    "instr.setVoltage(0)\n",
    "tsweep.plot()"
   ]
  }
 ],
 "metadata": {
  "kernelspec": {
   "display_name": "Python 3",
   "language": "python",
   "name": "python3"
  },
  "language_info": {
   "codemirror_mode": {
    "name": "ipython",
    "version": 3
   },
   "file_extension": ".py",
   "mimetype": "text/x-python",
   "name": "python",
   "nbconvert_exporter": "python",
   "pygments_lexer": "ipython3",
   "version": "3.8.6"
  }
 },
 "nbformat": 4,
 "nbformat_minor": 4
}
