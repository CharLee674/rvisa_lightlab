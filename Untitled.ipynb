{
 "cells": [
  {
   "cell_type": "code",
   "execution_count": 2,
   "metadata": {},
   "outputs": [],
   "source": [
    "import rvisa as visa\n",
    "import time\n",
    "from lightlab.equipment.lab_instruments.hp816x_instr_rvisa import hp816 as hp\n",
    "\n",
    "instr = hp('https://1000000031c956ca-api.nwtech.win/')#api='GPIB0::30::INSTR',url=\"https://1000000031c956ca-api.nwtech.win/\")#, tsp_node=1, channel=\"A\")\n",
    "instr.connect(\"GPIB0::30::INSTR\")\n"
   ]
  },
  {
   "cell_type": "code",
   "execution_count": 10,
   "metadata": {},
   "outputs": [
    {
     "name": "stdout",
     "output_type": "stream",
     "text": [
      "0\n"
     ]
    },
    {
     "ename": "AttributeError",
     "evalue": "'hp816' object has no attribute 'write'",
     "output_type": "error",
     "traceback": [
      "\u001b[0;31m---------------------------------------------------------------------------\u001b[0m",
      "\u001b[0;31mAttributeError\u001b[0m                            Traceback (most recent call last)",
      "\u001b[0;32m<ipython-input-10-469f49baab0c>\u001b[0m in \u001b[0;36m<module>\u001b[0;34m\u001b[0m\n\u001b[1;32m      1\u001b[0m \u001b[0;31m#test state\u001b[0m\u001b[0;34m\u001b[0m\u001b[0;34m\u001b[0m\u001b[0;34m\u001b[0m\u001b[0m\n\u001b[1;32m      2\u001b[0m \u001b[0mprint\u001b[0m\u001b[0;34m(\u001b[0m\u001b[0minstr\u001b[0m\u001b[0;34m.\u001b[0m\u001b[0mgetTLSState\u001b[0m\u001b[0;34m(\u001b[0m\u001b[0;34m)\u001b[0m\u001b[0;34m)\u001b[0m\u001b[0;34m\u001b[0m\u001b[0;34m\u001b[0m\u001b[0m\n\u001b[0;32m----> 3\u001b[0;31m \u001b[0minstr\u001b[0m\u001b[0;34m.\u001b[0m\u001b[0mwrite\u001b[0m\u001b[0;34m(\u001b[0m\u001b[0;34m'SOUR1:POW:STAT 1'\u001b[0m\u001b[0;34m)\u001b[0m\u001b[0;34m\u001b[0m\u001b[0;34m\u001b[0m\u001b[0m\n\u001b[0m\u001b[1;32m      4\u001b[0m \u001b[0minstr\u001b[0m\u001b[0;34m.\u001b[0m\u001b[0msetTLSState\u001b[0m\u001b[0;34m(\u001b[0m\u001b[0;36m1\u001b[0m\u001b[0;34m)\u001b[0m\u001b[0;34m\u001b[0m\u001b[0;34m\u001b[0m\u001b[0m\n\u001b[1;32m      5\u001b[0m \u001b[0mprint\u001b[0m\u001b[0;34m(\u001b[0m\u001b[0minstr\u001b[0m\u001b[0;34m.\u001b[0m\u001b[0mgetTLSState\u001b[0m\u001b[0;34m(\u001b[0m\u001b[0;34m)\u001b[0m\u001b[0;34m)\u001b[0m\u001b[0;34m\u001b[0m\u001b[0;34m\u001b[0m\u001b[0m\n",
      "\u001b[0;31mAttributeError\u001b[0m: 'hp816' object has no attribute 'write'"
     ]
    }
   ],
   "source": [
    "#test state\n",
    "print(instr.getTLSState())\n",
    "instr.write('SOUR1:POW:STAT 1')\n",
    "instr.setTLSState(1)\n",
    "print(instr.getTLSState())\n",
    "instr.setTLSState(0)\n",
    "print(instr.getTLSState())"
   ]
  },
  {
   "cell_type": "code",
   "execution_count": 11,
   "metadata": {},
   "outputs": [
    {
     "name": "stdout",
     "output_type": "stream",
     "text": [
      "+1.53700000E-006\n",
      "+1.55000000E-006\n",
      "+1.53700000E-006\n"
     ]
    }
   ],
   "source": [
    "#test wavelength\n",
    "print(instr.getWavelength())\n",
    "instr.setWavelength('1550NM')\n",
    "print(instr.getWavelength())\n",
    "instr.setWavelength('1537NM')\n",
    "print(instr.getWavelength())"
   ]
  },
  {
   "cell_type": "code",
   "execution_count": null,
   "metadata": {},
   "outputs": [],
   "source": []
  },
  {
   "cell_type": "code",
   "execution_count": 8,
   "metadata": {},
   "outputs": [
    {
     "name": "stdout",
     "output_type": "stream",
     "text": [
      "+2.06278800E-007\n",
      "+1.00000000E+000\n",
      "+2.06278800E-007\n"
     ]
    }
   ],
   "source": [
    "#test power\n",
    "print(instr.getOutputPower())\n",
    "instr.setOutputPower('1')\n",
    "print(instr.getOutputPower())\n",
    "instr.setOutputPower('0')\n",
    "print(instr.getOutputPower())"
   ]
  },
  {
   "cell_type": "code",
   "execution_count": null,
   "metadata": {},
   "outputs": [],
   "source": []
  }
 ],
 "metadata": {
  "kernelspec": {
   "display_name": "Python 3",
   "language": "python",
   "name": "python3"
  },
  "language_info": {
   "codemirror_mode": {
    "name": "ipython",
    "version": 3
   },
   "file_extension": ".py",
   "mimetype": "text/x-python",
   "name": "python",
   "nbconvert_exporter": "python",
   "pygments_lexer": "ipython3",
   "version": "3.8.6"
  }
 },
 "nbformat": 4,
 "nbformat_minor": 4
}
