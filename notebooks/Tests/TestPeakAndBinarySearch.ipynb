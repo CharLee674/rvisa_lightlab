{
 "cells": [
  {
   "cell_type": "markdown",
   "metadata": {},
   "source": [
    "# Interactive peak search\n",
    "Try running it in a live notebook for animation!"
   ]
  },
  {
   "cell_type": "code",
   "execution_count": 1,
   "metadata": {},
   "outputs": [
    {
     "ename": "IndentationError",
     "evalue": "expected an indented block (sweep.py, line 1308)",
     "output_type": "error",
     "traceback": [
      "Traceback \u001b[0;36m(most recent call last)\u001b[0m:\n",
      "  File \u001b[1;32m\"/Users/atait/Dropbox/Documents/gitProjects/experiment-code/lightlab/venv/lib/python3.6/site-packages/IPython/core/interactiveshell.py\"\u001b[0m, line \u001b[1;32m2910\u001b[0m, in \u001b[1;35mrun_code\u001b[0m\n    exec(code_obj, self.user_global_ns, self.user_ns)\n",
      "\u001b[0;36m  File \u001b[0;32m\"<ipython-input-1-f36dd10b5ab5>\"\u001b[0;36m, line \u001b[0;32m9\u001b[0;36m, in \u001b[0;35m<module>\u001b[0;36m\u001b[0m\n\u001b[0;31m    import lightlab.util.sweep as sUtil\u001b[0m\n",
      "\u001b[0;36m  File \u001b[0;32m\"/Users/atait/Dropbox/Documents/gitProjects/experiment-code/lightlab/lightlab/util/sweep.py\"\u001b[0;36m, line \u001b[0;32m1308\u001b[0m\n\u001b[0;31m    try:\u001b[0m\n\u001b[0m      ^\u001b[0m\n\u001b[0;31mIndentationError\u001b[0m\u001b[0;31m:\u001b[0m expected an indented block\n"
     ]
    }
   ],
   "source": [
    "# Reload modules every time code is called. Set autoreload 0 to disable\n",
    "%load_ext autoreload\n",
    "%autoreload 2\n",
    "\n",
    "import matplotlib.pyplot as plt\n",
    "import numpy as np\n",
    "np.random.seed(0)\n",
    "\n",
    "import lightlab.util.sweep as sUtil\n",
    "from lightlab.util.io import RangeError"
   ]
  },
  {
   "cell_type": "code",
   "execution_count": null,
   "metadata": {},
   "outputs": [],
   "source": [
    "livePlots = True"
   ]
  },
  {
   "cell_type": "code",
   "execution_count": null,
   "metadata": {},
   "outputs": [],
   "source": [
    "center = .82\n",
    "amp = .7\n",
    "fwhm = .2\n",
    "\n",
    "defaultNoise = amp * 5e-3\n",
    "noise = defaultNoise\n",
    "\n",
    "assertionTolerance = .2\n",
    "\n",
    "def myPeakedFun(x):\n",
    "    y = amp / (1 + (2 * (x - center) / fwhm) ** 2) + noise * np.random.randn()\n",
    "    return y\n",
    "xq = np.linspace(0,3, 10)\n",
    "plt.plot(xq, myPeakedFun(xq))\n",
    "plt.title('Poor, low-res sampling of underlying peak')"
   ]
  },
  {
   "cell_type": "code",
   "execution_count": null,
   "metadata": {},
   "outputs": [],
   "source": [
    "for noi, nSwarm in zip([defaultNoise, 5e-2], [3, 7]):\n",
    "    noise = noi\n",
    "    xPeak, yPeak = sUtil.peakSearch(evalPointFun=myPeakedFun, startBounds=[0,3],\n",
    "                             nSwarm=nSwarm, xTol=.01, yTol=amp/100, livePlot=livePlots)\n",
    "    assert abs(xPeak - center) < assertionTolerance\n",
    "    assert abs(yPeak - amp) < assertionTolerance\n",
    "noise = defaultNoise"
   ]
  },
  {
   "cell_type": "markdown",
   "metadata": {},
   "source": [
    "## Interactive peak descent through binary search"
   ]
  },
  {
   "cell_type": "code",
   "execution_count": null,
   "metadata": {},
   "outputs": [],
   "source": [
    "binSearchOpts = dict(evalPointFun=myPeakedFun, xTol=.005, livePlot=livePlots)"
   ]
  },
  {
   "cell_type": "markdown",
   "metadata": {},
   "source": [
    "### This is easy, well bounded"
   ]
  },
  {
   "cell_type": "code",
   "execution_count": null,
   "metadata": {},
   "outputs": [],
   "source": [
    "rightBounds = [xPeak, 3]\n",
    "leftBounds = [0, xPeak]\n",
    "hwhmKwargs = dict(targetY=0.5*yPeak, **binSearchOpts)\n",
    "xRightHalf = sUtil.binarySearch(startBounds=rightBounds, **hwhmKwargs)\n",
    "xLeftHalf = sUtil.binarySearch(startBounds=leftBounds, **hwhmKwargs)\n",
    "assert abs(xLeftHalf - (center - fwhm/2)) < assertionTolerance\n",
    "assert abs(xRightHalf - (center + fwhm/2)) < assertionTolerance"
   ]
  },
  {
   "cell_type": "markdown",
   "metadata": {},
   "source": [
    "### Non-monotonic but still well defined\n",
    "There is only one value in the domain that satisfies. It starts off bracked\n",
    "\n",
    "No test for when there is a peak in the middle and it starts *not* bracketed, \n",
    "i.e. if rightStart fwhm was 0.75\n",
    "\n",
    "To handle this, bracketSearch would have to report that it bracketed on both sides"
   ]
  },
  {
   "cell_type": "code",
   "execution_count": null,
   "metadata": {},
   "outputs": [],
   "source": [
    "rightStart = center + fwhm*.45\n",
    "for leftStart in [0, center - fwhm, center - 0.55 * fwhm]:\n",
    "    xLeftHalf = sUtil.binarySearch(startBounds=[leftStart, rightStart], **hwhmKwargs)\n",
    "#     assert abs(xLeftHalf - (center - fwhm/2)) < assertionTolerance"
   ]
  },
  {
   "cell_type": "markdown",
   "metadata": {},
   "source": [
    "### Bad bound conditioning that should succeed\n",
    "But they are not very robust to noise"
   ]
  },
  {
   "cell_type": "code",
   "execution_count": null,
   "metadata": {},
   "outputs": [],
   "source": [
    "# Starts outside, but pretty easy\n",
    "xLeftHalf = sUtil.binarySearch(startBounds=[0, xPeak/4], **hwhmKwargs)\n",
    "assert abs(xLeftHalf - (center - fwhm/2)) < assertionTolerance\n",
    "\n",
    "# Very bad domain (This takes a long time)\n",
    "# noise = 0\n",
    "# xLeftHalf = sUtil.binarySearch(startBounds=[0, .02], **hwhmKwargs)\n",
    "# assert abs(xLeftHalf - (center - fwhm/2)) < assertionTolerance\n",
    "\n",
    "# Target very close to peak\n",
    "noise = defaultNoise / 10 # turn down noise a little bit\n",
    "for trialAgainstNoise in range(5):\n",
    "    try:\n",
    "        xRightOnPeak = sUtil.binarySearch(startBounds=[0, xPeak/4], targetY=0.99*amp, **binSearchOpts)\n",
    "        break\n",
    "    except RangeError as err:\n",
    "        if 'probably noise' in err.args[0]:\n",
    "            continue\n",
    "        else:\n",
    "            raise err\n",
    "else:\n",
    "    raise Exception('We tried a lot but noise killed this one')\n",
    "assert abs(xRightOnPeak - center) < assertionTolerance\n",
    "noise = defaultNoise\n"
   ]
  },
  {
   "cell_type": "markdown",
   "metadata": {},
   "source": [
    "### These should generate errors"
   ]
  },
  {
   "cell_type": "code",
   "execution_count": null,
   "metadata": {},
   "outputs": [],
   "source": [
    "# Targeting outside of hard constrain domain\n",
    "try:\n",
    "    sUtil.binarySearch(startBounds=[xPeak, xPeak+.1], targetY=0, hardConstrain=True, **binSearchOpts)\n",
    "    assert False\n",
    "except RangeError as err:\n",
    "    assert err.args[1] == 'low'\n",
    "    \n",
    "# Targeting something too high\n",
    "try:\n",
    "    goodAsItGets = sUtil.binarySearch(startBounds=[0, center - 0.45 * fwhm], targetY=2, hardConstrain=False, **binSearchOpts)\n",
    "    assert False\n",
    "except RangeError as err:\n",
    "    assert err.args[1] == 'high'"
   ]
  },
  {
   "cell_type": "code",
   "execution_count": null,
   "metadata": {},
   "outputs": [],
   "source": []
  }
 ],
 "metadata": {
  "kernelspec": {
   "display_name": "Python 3",
   "language": "python",
   "name": "python3"
  },
  "language_info": {
   "codemirror_mode": {
    "name": "ipython",
    "version": 3
   },
   "file_extension": ".py",
   "mimetype": "text/x-python",
   "name": "python",
   "nbconvert_exporter": "python",
   "pygments_lexer": "ipython3",
   "version": "3.6.4"
  }
 },
 "nbformat": 4,
 "nbformat_minor": 2
}
