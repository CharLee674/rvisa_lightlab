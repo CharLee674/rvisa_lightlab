{
 "cells": [
  {
   "cell_type": "markdown",
   "metadata": {},
   "source": [
    "# Interactive peak search\n",
    "Try running it in a live notebook for animation!"
   ]
  },
  {
   "cell_type": "code",
   "execution_count": 1,
   "metadata": {},
   "outputs": [],
   "source": [
    "%load_ext autoreload\n",
    "%autoreload 2\n",
    "\n",
    "import matplotlib.pyplot as plt\n",
    "import numpy as np\n",
    "np.random.seed(0)\n",
    "\n",
    "import lightlab.util.sweep as sUtil"
   ]
  },
  {
   "cell_type": "code",
   "execution_count": 2,
   "metadata": {},
   "outputs": [],
   "source": [
    "livePlots = False"
   ]
  },
  {
   "cell_type": "code",
   "execution_count": 3,
   "metadata": {},
   "outputs": [
    {
     "data": {
      "text/plain": [
       "Text(0.5,1,'Poor, low-res sampling of underlying peak')"
      ]
     },
     "execution_count": 3,
     "metadata": {},
     "output_type": "execute_result"
    },
    {
     "data": {
      "image/png": "[encoded data removed]",
      "text/plain": [
       "<matplotlib.figure.Figure at 0x107aa5358>"
      ]
     },
     "metadata": {},
     "output_type": "display_data"
    }
   ],
   "source": [
    "def myPeakedFun(x):\n",
    "    x0 = .82\n",
    "    fwhm = .2\n",
    "    amp = 7\n",
    "    noise = amp * 1e-2\n",
    "    y = amp / (1 + (2 * (x - x0) / fwhm) ** 2) + noise * np.random.randn()\n",
    "    return y\n",
    "xq = np.linspace(0,3, 10)\n",
    "plt.plot(xq, myPeakedFun(xq))\n",
    "plt.title('Poor, low-res sampling of underlying peak')"
   ]
  },
  {
   "cell_type": "code",
   "execution_count": 4,
   "metadata": {},
   "outputs": [
    {
     "name": "stdout",
     "output_type": "stream",
     "text": [
      "Detected positive curvature\n",
      "Detected positive curvature\n",
      "Converged on peak\n",
      "0.8154887471038466 7.01286612665231\n"
     ]
    }
   ],
   "source": [
    "xPeak, yPeak = sUtil.peakSearch(evalPointFun=myPeakedFun, startBounds=[0,3],\n",
    "                         nSwarm=3, xTol=.001, livePlot=livePlots)\n",
    "print(xPeak, yPeak)"
   ]
  },
  {
   "cell_type": "markdown",
   "metadata": {},
   "source": [
    "## Interactive peak descent through binary search"
   ]
  },
  {
   "cell_type": "code",
   "execution_count": 5,
   "metadata": {},
   "outputs": [
    {
     "name": "stdout",
     "output_type": "stream",
     "text": [
      "Left: 0.719127283823021\n",
      "Right: 0.9194876959111586\n"
     ]
    }
   ],
   "source": [
    "rightBounds = [xPeak, 3]\n",
    "leftBounds = [0, xPeak]\n",
    "xRightHalf = sUtil.binarySearch(evalPointFun=myPeakedFun, targetY=0.5*yPeak, \n",
    "                                startBounds=rightBounds,\n",
    "                                xTol=.001,\n",
    "                                livePlot=livePlots)\n",
    "xLeftHalf = sUtil.binarySearch(evalPointFun=myPeakedFun, targetY=0.5*yPeak, \n",
    "                                startBounds=leftBounds,\n",
    "                                xTol=.001,\n",
    "                                livePlot=livePlots)\n",
    "print('Left:', xLeftHalf)\n",
    "print('Right:', xRightHalf)"
   ]
  },
  {
   "cell_type": "code",
   "execution_count": null,
   "metadata": {},
   "outputs": [],
   "source": []
  }
 ],
 "metadata": {
  "kernelspec": {
   "display_name": "Python 3",
   "language": "python",
   "name": "python3"
  },
  "language_info": {
   "codemirror_mode": {
    "name": "ipython",
    "version": 3
   },
   "file_extension": ".py",
   "mimetype": "text/x-python",
   "name": "python",
   "nbconvert_exporter": "python",
   "pygments_lexer": "ipython3",
   "version": "3.6.4"
  }
 },
 "nbformat": 4,
 "nbformat_minor": 2
}
