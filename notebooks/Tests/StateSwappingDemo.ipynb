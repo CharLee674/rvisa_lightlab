{
 "cells": [
  {
   "cell_type": "markdown",
   "metadata": {},
   "source": [
    "# Demo of state swapping\n",
    "### Functions shown\n",
    "* `conductor.CalTrialSwapper`\n",
    "* `conductor.StateBasedSwapper`\n",
    "\n",
    "Here we have very simplistic model of a virtual lab that has a state and a way to configure that state. The state is multi-valued and depends on multiple variables. \n",
    "\n",
    "The method `reconfigure` is considered dangerous. Some variables produce runtime exceptions (i.e. `what=2`). Using the swappers also presents opportunities to mess up arguments. Unhandled errors can corrupt the instruments in the lab and/or put them in a state that is inconsistent with the code's model of the state.\n",
    "\n",
    "While `Laboratory` is virtual, this also works with any kind of experimental implementation.\n",
    "\n",
    "### The goal of swapping functions\n",
    "* Permanently change the state\n",
    "* Temporarily change the state and go back to the orignal, without having to query and handle the original state explicitly\n",
    "* Handle all errors so the lab state is always consistent\n",
    "* Raise those errors to you"
   ]
  },
  {
   "cell_type": "code",
   "execution_count": 1,
   "metadata": {},
   "outputs": [
    {
     "name": "stdout",
     "output_type": "stream",
     "text": [
      "Warning: This is the lightlab version of CalModules -- Not maintained -- use lightcal.modeling\n"
     ]
    }
   ],
   "source": [
    "import lightlab.equipment.conductor as lc\n",
    "\n",
    "class MyError(Exception):\n",
    "    pass\n",
    "\n",
    "class Laboratory():\n",
    "    def __init__(self, initialState=None):\n",
    "        self.stateOfTheLab = initialState\n",
    "        \n",
    "    def reconfigure(self, what, how, *args):\n",
    "        if what == 2:\n",
    "            raise MyError('Cannot do that')\n",
    "        self.stateOfTheLab = [what + how, what - how]\n",
    "        print(*args)\n",
    "        print(self)\n",
    "        \n",
    "    def __str__(self):\n",
    "        return 'state = ' + str(self.stateOfTheLab)\n",
    "\n",
    "lab = Laboratory()"
   ]
  },
  {
   "cell_type": "markdown",
   "metadata": {},
   "source": [
    "## case 1: everything good"
   ]
  },
  {
   "cell_type": "code",
   "execution_count": 2,
   "metadata": {},
   "outputs": [
    {
     "name": "stdout",
     "output_type": "stream",
     "text": [
      "Phew, calibration mode\n",
      "state = [3, -1]\n",
      "Doing stuff with [3, -1]\n",
      "Ok buddy lets try it\n",
      "state = [8, -2]\n",
      "Doing other stuff with [8, -2]\n",
      "Phew, calibration mode\n",
      "state = [3, -1]\n"
     ]
    }
   ],
   "source": [
    "calSwap = lc.CalTrialSwapper(lab.reconfigure, \n",
    "                             (1, 2, 'Phew, calibration mode'), \n",
    "                             (3, 5, 'Ok', 'buddy', 'lets try it'))\n",
    "for _ in range(5):\n",
    "    calSwap.setCalibration()  # Does not set calibration state more than once\n",
    "with calSwap.tempCalibration():  # Does not set calibration state again\n",
    "    print('Doing stuff with', lab.stateOfTheLab)\n",
    "with calSwap.tempTrial():  # Changes state to trial\n",
    "    print('Doing other stuff with', lab.stateOfTheLab)\n",
    "# Automatically changes back"
   ]
  },
  {
   "cell_type": "markdown",
   "metadata": {},
   "source": [
    "## case 2: runtime error"
   ]
  },
  {
   "cell_type": "code",
   "execution_count": 3,
   "metadata": {},
   "outputs": [
    {
     "name": "stdout",
     "output_type": "stream",
     "text": [
      "Phew, calibration mode\n",
      "state = [6, -4]\n",
      "An error was swallowed. State should change back\n",
      "state = [6, -4]\n"
     ]
    }
   ],
   "source": [
    "calSwap = lc.CalTrialSwapper(lab.reconfigure, \n",
    "                             (1, 5, 'Phew, calibration mode'), \n",
    "                             (2, 4, 'Ok', 'buddy', 'lets try it'))\n",
    "try:\n",
    "    with calSwap.tempTrial():\n",
    "        print('Futility')\n",
    "except MyError:\n",
    "    print('An error was swallowed. State should change back')\n",
    "print(lab)  # Nevertheless we are back to the trial state"
   ]
  },
  {
   "cell_type": "markdown",
   "metadata": {},
   "source": [
    "## case 3: argument error"
   ]
  },
  {
   "cell_type": "code",
   "execution_count": 4,
   "metadata": {},
   "outputs": [
    {
     "name": "stdout",
     "output_type": "stream",
     "text": [
      "Phew, calibration mode\n",
      "state = [6, -4]\n",
      "You have a problem with the arguments to trial\n",
      "They are:\n",
      " : 10\n",
      "An error was swallowed. State should change back\n",
      "state = [6, -4]\n"
     ]
    }
   ],
   "source": [
    "calSwap = lc.CalTrialSwapper(lab.reconfigure, \n",
    "                             (1, 5, 'Phew, calibration mode'), \n",
    "                             10)\n",
    "calSwap.setCalibration()\n",
    "try:\n",
    "    with calSwap.tempTrial():\n",
    "        print('Futility')\n",
    "except:\n",
    "    print('An error was swallowed. State should change back')\n",
    "print(lab)  # Nevertheless we are back to the calibration state"
   ]
  },
  {
   "cell_type": "markdown",
   "metadata": {},
   "source": [
    "## case 3 and beyond: generic version"
   ]
  },
  {
   "cell_type": "code",
   "execution_count": 5,
   "metadata": {},
   "outputs": [
    {
     "name": "stdout",
     "output_type": "stream",
     "text": [
      "alex\n",
      "bhavin\n",
      "tommy\n",
      "Doing stuff\n",
      "bhavin\n",
      "alex\n"
     ]
    }
   ],
   "source": [
    "genericSwap = lc.StateBasedSwapper(print, {'a': 'alex', 'b': 'bhavin', 't': 'tommy'})\n",
    "for _ in range(10):\n",
    "    genericSwap.setState('a')\n",
    "with genericSwap.temporarily('b'):\n",
    "    with genericSwap.temporarily('t'):\n",
    "        print('Doing stuff')\n",
    "# Folds out"
   ]
  },
  {
   "cell_type": "code",
   "execution_count": null,
   "metadata": {},
   "outputs": [],
   "source": []
  }
 ],
 "metadata": {
  "kernelspec": {
   "display_name": "Python 3",
   "language": "python",
   "name": "python3"
  },
  "language_info": {
   "codemirror_mode": {
    "name": "ipython",
    "version": 3
   },
   "file_extension": ".py",
   "mimetype": "text/x-python",
   "name": "python",
   "nbconvert_exporter": "python",
   "pygments_lexer": "ipython3",
   "version": "3.6.4"
  }
 },
 "nbformat": 4,
 "nbformat_minor": 2
}
