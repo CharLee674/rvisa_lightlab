{
 "cells": [
  {
   "cell_type": "markdown",
   "metadata": {},
   "source": [
    "# Controlling Keithley with Prologix\n",
    "\n",
    "## Talking to prologix"
   ]
  },
  {
   "cell_type": "markdown",
   "metadata": {},
   "source": [
    "What I want to do with `PrologixResourceManager`:\n",
    "\n",
    "```python\n",
    "p = PrologixResourceManager('lightwave-lab-prologix1.princeton.edu')\n",
    "\n",
    "p.connect()  # connects to socket and leaves it open\n",
    "p.startup()  # configures prologix to communicate via gpib\n",
    "p.send('++addr 23')  # talks to address 23\n",
    "p.send('command value')  # sends the command and does not expect to read anything\n",
    "p.query('command')  # sends a command but reads stuff back\n",
    "p.disconnect()\n",
    "```\n",
    "\n",
    "The problem with the above is that if there is any error with `startup`, `send` or `query`, the `disconnect` method will not be called. So let's code a decorator as such:\n",
    "\n",
    "```python\n",
    "@contextmanager\n",
    "def connected(self):\n",
    "    self.connect()\n",
    "    try:\n",
    "        yield self\n",
    "    finally:\n",
    "        self.disconnect()\n",
    "```\n",
    "\n",
    "Then we can do the previous code like this:\n",
    "\n",
    "```python\n",
    "p = PrologixResourceManager('lightwave-lab-prologix1.princeton.edu')\n",
    "\n",
    "with p.connected():\n",
    "    p.startup()\n",
    "    p.send('++addr 23')  # talks to address 23\n",
    "    p.send('command value')  # sends the command and does not expect to read anything\n",
    "    p.query('command')  # sends a command but reads stuff back\n",
    "```\n",
    "\n",
    "If we try to send a message without the decorator, then we should connect and disconnect right before.\n",
    "```python\n",
    "p = PrologixResourceManager('lightwave-lab-prologix1.princeton.edu')\n",
    "\n",
    "p.send('++addr 23')  # opens and close socket automatically\n",
    "```"
   ]
  },
  {
   "cell_type": "code",
   "execution_count": 1,
   "metadata": {},
   "outputs": [],
   "source": [
    "from prologix_temp import PrologixResourceManager"
   ]
  },
  {
   "cell_type": "code",
   "execution_count": 2,
   "metadata": {},
   "outputs": [],
   "source": [
    "p = PrologixResourceManager('lightwave-lab-prologix1.ee.princeton.edu')"
   ]
  },
  {
   "cell_type": "code",
   "execution_count": 3,
   "metadata": {},
   "outputs": [
    {
     "name": "stdout",
     "output_type": "stream",
     "text": [
      "querying version\n",
      "'Prologix GPIB-ETHERNET Controller version 01.06.06.00\\r\\n'\n",
      "None\n"
     ]
    }
   ],
   "source": [
    "print('querying version')\n",
    "print(repr(p.query('++ver')))\n",
    "print(p._socket)  # socket should be None"
   ]
  },
  {
   "cell_type": "code",
   "execution_count": 9,
   "metadata": {},
   "outputs": [
    {
     "name": "stdout",
     "output_type": "stream",
     "text": [
      "'Prologix GPIB-ETHERNET Controller version 01.06.06.00\\r\\n'\n",
      "<socket.socket fd=59, family=AddressFamily.AF_INET, type=SocketKind.SOCK_STREAM, proto=6, laddr=('128.112.49.213', 65191), raddr=('128.112.48.58', 1234)>\n",
      "'23\\r\\n'\n",
      "None\n"
     ]
    }
   ],
   "source": [
    "# querying version inside with statement\n",
    "with p.connected():\n",
    "    print(repr(p.query('++ver')))  # should print 'Prologix.... \\r\\n'\n",
    "    print(p._socket)  # socket should not be None\n",
    "    print(repr(p.query('++addr')))  # should print '23\\r\\n'\n",
    "print(p._socket)  # socket should be None"
   ]
  },
  {
   "cell_type": "code",
   "execution_count": 5,
   "metadata": {},
   "outputs": [
    {
     "name": "stdout",
     "output_type": "stream",
     "text": [
      "'Prologix GPIB-ETHERNET Controller version 01.06.06.00\\r\\n'\n",
      "<socket.socket fd=59, family=AddressFamily.AF_INET, type=SocketKind.SOCK_STREAM, proto=6, laddr=('128.112.49.213', 65117), raddr=('128.112.48.58', 1234)>\n",
      "'Prologix GPIB-ETHERNET Controller version 01.06.06.00\\r\\n'\n",
      "<socket.socket fd=59, family=AddressFamily.AF_INET, type=SocketKind.SOCK_STREAM, proto=6, laddr=('128.112.49.213', 65117), raddr=('128.112.48.58', 1234)>\n",
      "<socket.socket fd=59, family=AddressFamily.AF_INET, type=SocketKind.SOCK_STREAM, proto=6, laddr=('128.112.49.213', 65117), raddr=('128.112.48.58', 1234)>\n",
      "None\n"
     ]
    }
   ],
   "source": [
    "# nested with statement.\n",
    "with p.connected():\n",
    "    print(repr(p.query('++ver')))  # should print 'Prologix.... \\r\\n'\n",
    "    print(p._socket)  # socket should not be None\n",
    "    with p.connected():\n",
    "        print(repr(p.query('++ver')))  # should print 'Prologix.... \\r\\n'\n",
    "        print(p._socket)  # socket should not be None\n",
    "    print(p._socket)  # socket should not be None\n",
    "print(p._socket)  # socket should be None"
   ]
  },
  {
   "cell_type": "code",
   "execution_count": 6,
   "metadata": {},
   "outputs": [
    {
     "name": "stdout",
     "output_type": "stream",
     "text": [
      "None\n"
     ]
    },
    {
     "ename": "timeout",
     "evalue": "timed out",
     "output_type": "error",
     "traceback": [
      "\u001b[0;31m---------------------------------------------------------------------------\u001b[0m",
      "\u001b[0;31mtimeout\u001b[0m                                   Traceback (most recent call last)",
      "\u001b[0;32m<ipython-input-6-a7b2f5695fe1>\u001b[0m in \u001b[0;36m<module>\u001b[0;34m()\u001b[0m\n\u001b[1;32m      1\u001b[0m \u001b[0mprint\u001b[0m\u001b[0;34m(\u001b[0m\u001b[0mp\u001b[0m\u001b[0;34m.\u001b[0m\u001b[0msend\u001b[0m\u001b[0;34m(\u001b[0m\u001b[0;34m'*IDN?'\u001b[0m\u001b[0;34m)\u001b[0m\u001b[0;34m)\u001b[0m\u001b[0;34m\u001b[0m\u001b[0m\n\u001b[0;32m----> 2\u001b[0;31m \u001b[0mprint\u001b[0m\u001b[0;34m(\u001b[0m\u001b[0mp\u001b[0m\u001b[0;34m.\u001b[0m\u001b[0mquery\u001b[0m\u001b[0;34m(\u001b[0m\u001b[0;34m'++read eoi'\u001b[0m\u001b[0;34m)\u001b[0m\u001b[0;34m)\u001b[0m\u001b[0;34m\u001b[0m\u001b[0m\n\u001b[0m",
      "\u001b[0;32m~/Documents/Princeton/Prucnal/GitProjects/lightlab/notebooks/prologix_temp.py\u001b[0m in \u001b[0;36mquery\u001b[0;34m(self, query_msg, msg_length)\u001b[0m\n\u001b[1;32m     85\u001b[0m             \u001b[0;32mwith\u001b[0m \u001b[0mself\u001b[0m\u001b[0;34m.\u001b[0m\u001b[0mconnected\u001b[0m\u001b[0;34m(\u001b[0m\u001b[0;34m)\u001b[0m\u001b[0;34m:\u001b[0m\u001b[0;34m\u001b[0m\u001b[0m\n\u001b[1;32m     86\u001b[0m                 \u001b[0mself\u001b[0m\u001b[0;34m.\u001b[0m\u001b[0m_send\u001b[0m\u001b[0;34m(\u001b[0m\u001b[0mself\u001b[0m\u001b[0;34m.\u001b[0m\u001b[0m_socket\u001b[0m\u001b[0;34m,\u001b[0m \u001b[0mquery_msg\u001b[0m\u001b[0;34m)\u001b[0m\u001b[0;34m\u001b[0m\u001b[0m\n\u001b[0;32m---> 87\u001b[0;31m                 \u001b[0mrecv\u001b[0m \u001b[0;34m=\u001b[0m \u001b[0mself\u001b[0m\u001b[0;34m.\u001b[0m\u001b[0m_recv\u001b[0m\u001b[0;34m(\u001b[0m\u001b[0mself\u001b[0m\u001b[0;34m.\u001b[0m\u001b[0m_socket\u001b[0m\u001b[0;34m,\u001b[0m \u001b[0mmsg_length\u001b[0m\u001b[0;34m)\u001b[0m\u001b[0;34m\u001b[0m\u001b[0m\n\u001b[0m\u001b[1;32m     88\u001b[0m         \u001b[0;32mreturn\u001b[0m \u001b[0mrecv\u001b[0m\u001b[0;34m\u001b[0m\u001b[0m\n\u001b[1;32m     89\u001b[0m \u001b[0;34m\u001b[0m\u001b[0m\n",
      "\u001b[0;32m~/Documents/Princeton/Prucnal/GitProjects/lightlab/notebooks/prologix_temp.py\u001b[0m in \u001b[0;36m_recv\u001b[0;34m(self, socket, msg_length)\u001b[0m\n\u001b[1;32m     21\u001b[0m \u001b[0;34m\u001b[0m\u001b[0m\n\u001b[1;32m     22\u001b[0m     \u001b[0;32mdef\u001b[0m \u001b[0m_recv\u001b[0m\u001b[0;34m(\u001b[0m\u001b[0mself\u001b[0m\u001b[0;34m,\u001b[0m \u001b[0msocket\u001b[0m\u001b[0;34m,\u001b[0m \u001b[0mmsg_length\u001b[0m\u001b[0;34m=\u001b[0m\u001b[0;36m2048\u001b[0m\u001b[0;34m)\u001b[0m\u001b[0;34m:\u001b[0m\u001b[0;34m\u001b[0m\u001b[0m\n\u001b[0;32m---> 23\u001b[0;31m         \u001b[0mreceived_value\u001b[0m \u001b[0;34m=\u001b[0m \u001b[0msocket\u001b[0m\u001b[0;34m.\u001b[0m\u001b[0mrecv\u001b[0m\u001b[0;34m(\u001b[0m\u001b[0mmsg_length\u001b[0m\u001b[0;34m)\u001b[0m\u001b[0;34m\u001b[0m\u001b[0m\n\u001b[0m\u001b[1;32m     24\u001b[0m         \u001b[0;32mreturn\u001b[0m \u001b[0mreceived_value\u001b[0m\u001b[0;34m.\u001b[0m\u001b[0mdecode\u001b[0m\u001b[0;34m(\u001b[0m\u001b[0;34m'ascii'\u001b[0m\u001b[0;34m)\u001b[0m\u001b[0;34m\u001b[0m\u001b[0m\n\u001b[1;32m     25\u001b[0m \u001b[0;34m\u001b[0m\u001b[0m\n",
      "\u001b[0;31mtimeout\u001b[0m: timed out"
     ]
    }
   ],
   "source": [
    "print(p.send('*IDN?'))\n",
    "print(p.query('++read eoi'))"
   ]
  },
  {
   "cell_type": "code",
   "execution_count": 39,
   "metadata": {},
   "outputs": [
    {
     "ename": "gaierror",
     "evalue": "[Errno -2] Name or service not known",
     "output_type": "error",
     "traceback": [
      "\u001b[0;31m---------------------------------------------------------------------------\u001b[0m",
      "\u001b[0;31mgaierror\u001b[0m                                  Traceback (most recent call last)",
      "\u001b[0;32m<ipython-input-39-2dca51d727bc>\u001b[0m in \u001b[0;36m<module>\u001b[0;34m()\u001b[0m\n\u001b[1;32m      2\u001b[0m \u001b[0;34m\u001b[0m\u001b[0m\n\u001b[1;32m      3\u001b[0m \u001b[0mp\u001b[0m \u001b[0;34m=\u001b[0m \u001b[0mPrologixResourceManager\u001b[0m\u001b[0;34m(\u001b[0m\u001b[0;34m'lightwavexxxxx-lab-prologix1.ee.princeton.edu'\u001b[0m\u001b[0;34m)\u001b[0m\u001b[0;34m\u001b[0m\u001b[0m\n\u001b[0;32m----> 4\u001b[0;31m \u001b[0;32mwith\u001b[0m \u001b[0mp\u001b[0m\u001b[0;34m.\u001b[0m\u001b[0mconnected\u001b[0m\u001b[0;34m(\u001b[0m\u001b[0;34m)\u001b[0m\u001b[0;34m:\u001b[0m  \u001b[0;31m# should throw an error right here\u001b[0m\u001b[0;34m\u001b[0m\u001b[0m\n\u001b[0m\u001b[1;32m      5\u001b[0m     \u001b[0;32mpass\u001b[0m\u001b[0;34m\u001b[0m\u001b[0m\n",
      "\u001b[0;32m/usr/lib64/python3.6/contextlib.py\u001b[0m in \u001b[0;36m__enter__\u001b[0;34m(self)\u001b[0m\n\u001b[1;32m     79\u001b[0m     \u001b[0;32mdef\u001b[0m \u001b[0m__enter__\u001b[0m\u001b[0;34m(\u001b[0m\u001b[0mself\u001b[0m\u001b[0;34m)\u001b[0m\u001b[0;34m:\u001b[0m\u001b[0;34m\u001b[0m\u001b[0m\n\u001b[1;32m     80\u001b[0m         \u001b[0;32mtry\u001b[0m\u001b[0;34m:\u001b[0m\u001b[0;34m\u001b[0m\u001b[0m\n\u001b[0;32m---> 81\u001b[0;31m             \u001b[0;32mreturn\u001b[0m \u001b[0mnext\u001b[0m\u001b[0;34m(\u001b[0m\u001b[0mself\u001b[0m\u001b[0;34m.\u001b[0m\u001b[0mgen\u001b[0m\u001b[0;34m)\u001b[0m\u001b[0;34m\u001b[0m\u001b[0m\n\u001b[0m\u001b[1;32m     82\u001b[0m         \u001b[0;32mexcept\u001b[0m \u001b[0mStopIteration\u001b[0m\u001b[0;34m:\u001b[0m\u001b[0;34m\u001b[0m\u001b[0m\n\u001b[1;32m     83\u001b[0m             \u001b[0;32mraise\u001b[0m \u001b[0mRuntimeError\u001b[0m\u001b[0;34m(\u001b[0m\u001b[0;34m\"generator didn't yield\"\u001b[0m\u001b[0;34m)\u001b[0m \u001b[0;32mfrom\u001b[0m \u001b[0;32mNone\u001b[0m\u001b[0;34m\u001b[0m\u001b[0m\n",
      "\u001b[0;32m<ipython-input-33-3ace24b5e4f6>\u001b[0m in \u001b[0;36mconnected\u001b[0;34m(self)\u001b[0m\n\u001b[1;32m     47\u001b[0m     \u001b[0;32mdef\u001b[0m \u001b[0mconnected\u001b[0m\u001b[0;34m(\u001b[0m\u001b[0mself\u001b[0m\u001b[0;34m)\u001b[0m\u001b[0;34m:\u001b[0m\u001b[0;34m\u001b[0m\u001b[0m\n\u001b[1;32m     48\u001b[0m         \u001b[0mpreviously_connected\u001b[0m \u001b[0;34m=\u001b[0m \u001b[0;34m(\u001b[0m\u001b[0mself\u001b[0m\u001b[0;34m.\u001b[0m\u001b[0m_socket\u001b[0m \u001b[0;32mis\u001b[0m \u001b[0;32mnot\u001b[0m \u001b[0;32mNone\u001b[0m\u001b[0;34m)\u001b[0m\u001b[0;34m\u001b[0m\u001b[0m\n\u001b[0;32m---> 49\u001b[0;31m         \u001b[0mself\u001b[0m\u001b[0;34m.\u001b[0m\u001b[0mconnect\u001b[0m\u001b[0;34m(\u001b[0m\u001b[0;34m)\u001b[0m\u001b[0;34m\u001b[0m\u001b[0m\n\u001b[0m\u001b[1;32m     50\u001b[0m         \u001b[0;32mtry\u001b[0m\u001b[0;34m:\u001b[0m\u001b[0;34m\u001b[0m\u001b[0m\n\u001b[1;32m     51\u001b[0m             \u001b[0;32myield\u001b[0m \u001b[0mself\u001b[0m\u001b[0;34m\u001b[0m\u001b[0m\n",
      "\u001b[0;32m<ipython-input-33-3ace24b5e4f6>\u001b[0m in \u001b[0;36mconnect\u001b[0;34m(self)\u001b[0m\n\u001b[1;32m     28\u001b[0m             \u001b[0;32mtry\u001b[0m\u001b[0;34m:\u001b[0m\u001b[0;34m\u001b[0m\u001b[0m\n\u001b[1;32m     29\u001b[0m                 \u001b[0ms\u001b[0m\u001b[0;34m.\u001b[0m\u001b[0msettimeout\u001b[0m\u001b[0;34m(\u001b[0m\u001b[0mself\u001b[0m\u001b[0;34m.\u001b[0m\u001b[0mtimeout\u001b[0m\u001b[0;34m)\u001b[0m\u001b[0;34m\u001b[0m\u001b[0m\n\u001b[0;32m---> 30\u001b[0;31m                 \u001b[0ms\u001b[0m\u001b[0;34m.\u001b[0m\u001b[0mconnect\u001b[0m\u001b[0;34m(\u001b[0m\u001b[0;34m(\u001b[0m\u001b[0mself\u001b[0m\u001b[0;34m.\u001b[0m\u001b[0mip_address\u001b[0m\u001b[0;34m,\u001b[0m \u001b[0mself\u001b[0m\u001b[0;34m.\u001b[0m\u001b[0mport\u001b[0m\u001b[0;34m)\u001b[0m\u001b[0;34m)\u001b[0m\u001b[0;34m\u001b[0m\u001b[0m\n\u001b[0m\u001b[1;32m     31\u001b[0m             \u001b[0;32mexcept\u001b[0m \u001b[0msocket\u001b[0m\u001b[0;34m.\u001b[0m\u001b[0merror\u001b[0m\u001b[0;34m:\u001b[0m\u001b[0;34m\u001b[0m\u001b[0m\n\u001b[1;32m     32\u001b[0m                 \u001b[0ms\u001b[0m\u001b[0;34m.\u001b[0m\u001b[0mclose\u001b[0m\u001b[0;34m(\u001b[0m\u001b[0;34m)\u001b[0m\u001b[0;34m\u001b[0m\u001b[0m\n",
      "\u001b[0;31mgaierror\u001b[0m: [Errno -2] Name or service not known"
     ]
    }
   ],
   "source": [
    "# Testing errors\n",
    "\n",
    "p = PrologixResourceManager('lightwavexxxxx-lab-prologix1.ee.princeton.edu')\n",
    "with p.connected():  # should throw an error right here\n",
    "    pass"
   ]
  },
  {
   "cell_type": "markdown",
   "metadata": {},
   "source": [
    "## Visa object"
   ]
  },
  {
   "cell_type": "markdown",
   "metadata": {},
   "source": [
    "First, it would be nice to know whether a hostname is valid or not. That's why we are going to implement first a `_validate_hostname`. A hostname can be given as an ip address or a dns name. It would be nice to validate that a priori without attempting any connection, just as a sanity check."
   ]
  },
  {
   "cell_type": "code",
   "execution_count": 40,
   "metadata": {},
   "outputs": [],
   "source": [
    "from prologix_temp import _validate_hostname"
   ]
  },
  {
   "cell_type": "code",
   "execution_count": 41,
   "metadata": {},
   "outputs": [
    {
     "name": "stdout",
     "output_type": "stream",
     "text": [
      "True \t princeton.edu\n",
      "False \t princeton.edu.123\n",
      "True \t a.b.c\n",
      "True \t a.b\n",
      "True \t abc\n",
      "True \t 12.132.132.1\n",
      "True \t 0.0.0.0\n",
      "False \t 0.0.0.0.0\n",
      "True \t 127.0.0.1\n",
      "False \t 300.0.0.1\n"
     ]
    }
   ],
   "source": [
    "trials = ['princeton.edu', \n",
    "          'princeton.edu.123', \n",
    "          'a.b.c', \n",
    "          'a.b',\n",
    "          'abc', \n",
    "          '12.132.132.1', \n",
    "          '0.0.0.0',\n",
    "          '0.0.0.0.0',\n",
    "          '127.0.0.1',\n",
    "          '300.0.0.1',\n",
    "         ]\n",
    "for trial in trials:\n",
    "    print(_validate_hostname(trial), '\\t', trial)"
   ]
  },
  {
   "cell_type": "code",
   "execution_count": 64,
   "metadata": {},
   "outputs": [],
   "source": [
    "from prologix_temp import PrologixGPIBObject"
   ]
  },
  {
   "cell_type": "code",
   "execution_count": 67,
   "metadata": {},
   "outputs": [],
   "source": [
    "keithley_test = \\\n",
    "    PrologixGPIBObject('prologix://lightwave-lab-prologix1.princeton.edu/23', \n",
    "                       tempSess=True)"
   ]
  },
  {
   "cell_type": "code",
   "execution_count": 68,
   "metadata": {},
   "outputs": [
    {
     "data": {
      "text/plain": [
       "'KEITHLEY INSTRUMENTS INC.,MODEL 2400,4050948,C32   Oct  4 2010 14:20:11/A02  /U/K'"
      ]
     },
     "execution_count": 68,
     "metadata": {},
     "output_type": "execute_result"
    }
   ],
   "source": [
    "keithley_test.instrID()"
   ]
  },
  {
   "cell_type": "code",
   "execution_count": 69,
   "metadata": {},
   "outputs": [
    {
     "data": {
      "text/plain": [
       "'0'"
      ]
     },
     "execution_count": 69,
     "metadata": {},
     "output_type": "execute_result"
    }
   ],
   "source": [
    "keithley_test.query('OUTP:STATE?')"
   ]
  },
  {
   "cell_type": "markdown",
   "metadata": {},
   "source": [
    "## TODO before we can include in lightlab\n",
    "\n",
    "1. PrologixGPIBObject must have the following signature (same as VISAObject).\n",
    "\n",
    "```python\n",
    "class PrologixGPIBObject:\n",
    "    def __init__(self, address=None, tempSess=False):\n",
    "    def open(self):\n",
    "    def close(self):\n",
    "    def write(self, writeStr):\n",
    "    def query(self, queryStr, withTimeout=None):\n",
    "    def instrID(self):\n",
    "    @property\n",
    "    def timeout(self):\n",
    "    @timeout.setter\n",
    "    def timeout(self, newTimeout):\n",
    "    def reset(self):\n",
    "    def wait(self, bigMsTimeout=10000):\n",
    "```\n",
    "\n",
    "2. Additional methods for both VISAObject and PrologixGPIBObject\n",
    "\n",
    "```python\n",
    "def _spoll(self):\n",
    "    '''Return SRQ status byte of the instrument.'''\n",
    "\n",
    "def _LLO(self):\n",
    "    '''This command disables front panel operation of the currently addressed instrument.'''\n",
    "\n",
    "def _LOC(self):\n",
    "    '''This command enables front panel operation of the currently addressed instrument.'''\n",
    "\n",
    "@property\n",
    "def termination(self):\n",
    "    '''Termination GPIB character. Options: '\\r\\n', '\\r', '\\n', ''. '''\n",
    "    \n",
    "def clear(self):\n",
    "    '''This command sends the Selected Device Clear (SDC) message to the currently specified GPIB address.'''\n",
    "    \n",
    "def query_raw_binary(self, queryStr, withTimeout):\n",
    "    '''Read the unmodified string sent from the instrument to the computer. In contrast to read(), no termination characters are stripped. Also no decoding.'''\n",
    "```"
   ]
  },
  {
   "cell_type": "markdown",
   "metadata": {},
   "source": [
    "## Also need to test for concurrency.\n",
    "\n",
    "What happens if two connections to the prologix are attempted at the same time?\n",
    "\n",
    "``` python\n",
    "p1 = PrologixResourceManager('lightwave-lab-prologix1.ee.princeton.edu')\n",
    "p2 = PrologixResourceManager('lightwave-lab-prologix1.ee.princeton.edu')\n",
    "\n",
    "with p1.connected(), p2.connected():\n",
    "    print(p1.query('++ver'))  # this must work\n",
    "    print(p2.query('++ver'))  # this must work\n",
    "```\n",
    "\n",
    "Study what happens if you start socket, unplug ethernet cable, and write a query. Socket must be closed at the end.\n",
    "\n",
    "Study what happens if you start socket, unplug and replug ethernet cable, and write a query.\n",
    "\n",
    "Study what happens if you start socket, then connect via nc tool outside, then write a query. Which sockets get destroyed? What errors are generated? Write here so we include in the documentation.\n",
    "\n",
    "Also two instrument instances must be independent.\n",
    "\n",
    "``` python\n",
    "i1 = PrologixGPIBObject('address1')\n",
    "i2 = PrologixGPIBObject('address2')\n",
    "\n",
    "print(i1.instrID())  # shows id of instrument 1\n",
    "print(i2.instrID())  # shows id of instrument 2\n",
    "print(i1.instrID())  # shows id of instrument 1\n",
    "\n",
    "```"
   ]
  },
  {
   "cell_type": "code",
   "execution_count": null,
   "metadata": {},
   "outputs": [],
   "source": []
  }
 ],
 "metadata": {
  "kernelspec": {
   "display_name": "Python 3",
   "language": "python",
   "name": "python3"
  },
  "language_info": {
   "codemirror_mode": {
    "name": "ipython",
    "version": 3
   },
   "file_extension": ".py",
   "mimetype": "text/x-python",
   "name": "python",
   "nbconvert_exporter": "python",
   "pygments_lexer": "ipython3",
   "version": "3.6.5"
  }
 },
 "nbformat": 4,
 "nbformat_minor": 2
}
